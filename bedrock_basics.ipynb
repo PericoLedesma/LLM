{
 "cells": [
  {
   "cell_type": "code",
   "execution_count": 4,
   "id": "52f56afb-01b9-4f0a-a00c-1f54d1b07966",
   "metadata": {},
   "outputs": [],
   "source": [
    "import boto3\n",
    "import awscli"
   ]
  },
  {
   "cell_type": "code",
   "execution_count": 2,
   "id": "8a821cad-0735-45fa-bc89-d66c7d562f7e",
   "metadata": {},
   "outputs": [],
   "source": [
    "AWS_KEY_ID=os.environ.get(\"AWS_KEY_ID\")\n",
    "AWS_SECRET=os.environ.get(\"AWS_SECRET\")"
   ]
  },
  {
   "cell_type": "markdown",
   "id": "7a1e55ee-672f-48fe-91fd-ce7195252c44",
   "metadata": {},
   "source": [
    "franfurt  \"eu-east-1\"  \n",
    "ireland \"eu-west-1\"  \n",
    "\"eu-central-1\"\n",
    "virginia \"us-east-1\" \n",
    "\n",
    "https://pricing.eu-central-1.amazonaws.com/offers/v1.0/aws/AmazonBedrock/20240712200303/eu-west-1/index.json"
   ]
  },
  {
   "cell_type": "markdown",
   "id": "7f9bfa2f-b851-4a2e-b2de-3a0fd6c2fca6",
   "metadata": {},
   "source": [
    "----------------"
   ]
  },
  {
   "cell_type": "code",
   "execution_count": 102,
   "id": "df6789a4-97bc-473b-9770-4fcd250117c6",
   "metadata": {},
   "outputs": [],
   "source": [
    "# Virginia\n",
    "bedrock = boto3.client(\"bedrock-runtime\", \n",
    "                       region_name=\"us-east-1\") \n",
    "model_id = \"meta.llama3-70b-instruct-v1:0\""
   ]
  },
  {
   "cell_type": "code",
   "execution_count": 111,
   "id": "f95eafe1-2076-419f-977b-57daff517f55",
   "metadata": {},
   "outputs": [],
   "source": [
    "# Frankfurt\n",
    "bedrock = boto3.client(\"bedrock-runtime\", \n",
    "                       region_name=\"eu-central-1\")\n",
    "# model_id = \"amazon.titan-text-lite-v1\"\n",
    "model_id = \"amazon.titan-text-express-v1\""
   ]
  },
  {
   "cell_type": "code",
   "execution_count": null,
   "id": "3aa4869c-e58a-4cb7-8cfa-adbcc269c44b",
   "metadata": {},
   "outputs": [],
   "source": [
    "modelId='anthropic.claude-v2'"
   ]
  },
  {
   "cell_type": "markdown",
   "id": "8c10bda9-875d-4b5f-8c87-23a19f41814d",
   "metadata": {},
   "source": [
    "---------"
   ]
  },
  {
   "cell_type": "code",
   "execution_count": 120,
   "id": "ffd9cca2-0a19-45b0-bbc1-a2a67e115dcb",
   "metadata": {},
   "outputs": [],
   "source": [
    "body = json.dumps({\n",
    "    'prompt': '\\n\\nHuman: write an essay for living on mars in 1000 words\\n\\nAssistant:',\n",
    "    'max_tokens_to_sample': 4000\n",
    "})\n",
    "                   \n",
    "response = bedrock.invoke_model_with_response_stream(\n",
    "    modelId='anthropic.claude-v2', \n",
    "    body=body\n",
    ")\n",
    "response  "
   ]
  },
  {
   "cell_type": "code",
   "execution_count": 121,
   "id": "607e5aa3-8dda-4079-bcc9-c4ffac493bff",
   "metadata": {},
   "outputs": [
    {
     "name": "stdout",
     "output_type": "stream",
     "text": [
      "OUTPUT:  Here is a 998 word essay on living on Mars:\n",
      "\n",
      "Moving to Mars: Life on the Red Planet\n",
      "\n",
      "For centuries, Mars has captured our imaginations. The red planet has been the subject of intense speculation about the possibility of extraterrestrial life. With recent advances in space exploration technology, the idea of establishing a permanent human settlement on Mars has moved from science fiction to an ambitious near-future goal. But what would day-to-day life really be like for the first Martian colonists?\n",
      "\n",
      "Our knowledge of how to survive on Mars has increased dramatically in recent years thanks to robotic orbiters, landers, and rovers, as well as analog missions in extreme environments on Earth. We now know that while challenges exist, it is possible to live and work on the Martian surface. The first settlers would live in specially designed habitats offering protection from the harsh environment. This includes shelter from freezing temperatures, radiation, and dust storms. The habitats would likely be partially buried underground for natural insulation and radiation shielding. Inside they would provide a shirt-sleeve environment, with livable temperature and air pressure. Breathable air would come from plants and algae cultivated as part of a closed ecological system.\n",
      "\n",
      "Water and food would also need to be supplied within this closed system. Luckily Mars has large amounts of water ice just below the surface that colonists would mine and purify. This water could be used for drinking, washing, growing plants, and potentially split into oxygen and hydrogen for breatheable air and rocket fuel. Food would need to be brought from Earth initially until Martian greenhouses were well established. A varied plant-based diet would provide nutritional balance. Meat could also eventually be grown in-vitro to supplement the menu.\n",
      "\n",
      "Martian living would entail a highly routine lifestyle with much time spent on basic survival tasks inside the habitat. Maintenance of the systems providing air, water, food, and energy would be crucial. However, the colonists would aim to establish greater self-sufficiency over time. There would also be opportunities for meaningful scientific research, exploration of the Martian surface, and even artistic pursuits. While free time might be limited during the early settlement phase, the unique landscape could inspire great creativity.\n",
      "\n",
      "The isolation and dangers posed by the hostile Martian environment would require a tightly-knit community living and working closely together. The colony would be dependent on supplies from Earth but communications would involve an 8-40 minute delay each way. This means that while support from Earth could provide a lifeline, the Martian settlers would need to be highly self-reliant. Coming from many nations but sharing a common objective, the colonists would need to cooperate and form a cohesive identity. Their survival would depend on it. \n",
      "\n",
      "Living on Mars would be subject to many constraints and involve many hardships. However, the opportunity to be pioneers establishing mankind’s first extraterrestrial settlement could also bring out the best in human fortitude and imagination. For generations people have asked “Are we alone?” and “Could we live on other planets?” Those brave enough to venture across the vastness of space to make Mars their home will get to help answer these timeless questions. Setting foot on another world and thriving there would be a monumental human achievement. Ultimately, living on Mars will teach us much about our own capabilities and our place in the universe.\n",
      "\n",
      "In summary, establishing a permanent settlement on Mars presents daunting challenges but also offers an unparalleled opportunity for advancing humankind. If we are to become an interplanetary species, the Martian pioneers will lead the way. They will need to work together and push the limits of technology and human endurance. However harsh and confined daily life on Mars may be, the experience would be profound. From growing crops in Martian soil to gazing up at the blue dot of Earth in the night sky, no endeavor could be more meaningful for those daring individuals ready to call Mars their new home.\n"
     ]
    }
   ],
   "source": [
    "stream = response.get('body')\n",
    "message = \"OUTPUT: \"\n",
    "if stream:\n",
    "    for event in stream:\n",
    "        chunk = event.get('chunk')\n",
    "        if chunk:\n",
    "            # print(json.loads(chunk.get('bytes').decode()))\n",
    "            message += json.loads(chunk.get('bytes').decode())['completion']\n",
    "print(message)"
   ]
  },
  {
   "cell_type": "markdown",
   "id": "e04e89d8-d374-45c7-bcb9-9556bff9cffa",
   "metadata": {},
   "source": [
    "-----------------"
   ]
  },
  {
   "cell_type": "code",
   "execution_count": 99,
   "id": "35bbc894-d534-470b-9ccf-d00db23dc23d",
   "metadata": {},
   "outputs": [
    {
     "data": {
      "text/plain": [
       "'{\"prompt\": \"[INST]\\\\nAct as a Shakespeare and write a poem on machine Learning\\\\n[/INST]\", \"max_gen_len\": 512, \"temperature\": 0.5, \"top_p\": 0.9}'"
      ]
     },
     "execution_count": 99,
     "metadata": {},
     "output_type": "execute_result"
    }
   ],
   "source": [
    "payload={\n",
    "    \"prompt\": \"[INST]\" + prompt_data +\"[/INST]\",\n",
    "    \"max_gen_len\" :512,\n",
    "    \"temperature\" :0.5,\n",
    "    \"top_p\" :0.9\n",
    "}\n",
    "body=json.dumps(payload)\n",
    "body"
   ]
  },
  {
   "cell_type": "code",
   "execution_count": null,
   "id": "3061750f-573a-4d25-96dc-a526d29a8e53",
   "metadata": {},
   "outputs": [],
   "source": []
  },
  {
   "cell_type": "code",
   "execution_count": null,
   "id": "e49c37c7-9596-42ec-86aa-f86af1eba40f",
   "metadata": {},
   "outputs": [],
   "source": []
  },
  {
   "cell_type": "code",
   "execution_count": null,
   "id": "0487d25d-b5c2-44a7-95af-d8ccbad816f3",
   "metadata": {},
   "outputs": [],
   "source": []
  },
  {
   "cell_type": "markdown",
   "id": "5b6225d9-4c61-4b23-9bb5-6df8fa0eb91f",
   "metadata": {},
   "source": [
    "---------"
   ]
  },
  {
   "cell_type": "code",
   "execution_count": null,
   "id": "2639db41-bff5-42e6-8cc3-f13cb26754e5",
   "metadata": {},
   "outputs": [],
   "source": []
  },
  {
   "cell_type": "code",
   "execution_count": 32,
   "id": "9405979d-9fb3-4815-a14b-cca755cd3923",
   "metadata": {},
   "outputs": [],
   "source": [
    "# Create a Bedrock Runtime client in the AWS Region of your choice.\n",
    "client = boto3.client(\"bedrock-runtime\", region_name=\"us-east-1\") \n",
    "\n",
    "# Set the model ID, e.g., Titan Text Premier.\n",
    "model_id = \"meta.llama3-70b-instruct-v1:0\"\n",
    "# model_id = \"amazon.titan-text-express-v1\"\n",
    "\n",
    "# Define the prompt for the model.\n",
    "prompt = \"Describe the purpose of a 'hello world' program in one line.\"\n",
    "\n",
    "# Format the request payload using the model's native structure.\n",
    "native_request = {\n",
    "    \"inputText\": prompt,\n",
    "    \"textGenerationConfig\": {\n",
    "        \"maxTokenCount\": 512,\n",
    "        \"temperature\": 0.5,\n",
    "    },\n",
    "}\n",
    "\n",
    "# Convert the native request to JSON.\n",
    "request = json.dumps(native_request)"
   ]
  }
 ],
 "metadata": {
  "kernelspec": {
   "display_name": "Python 3 (ipykernel)",
   "language": "python",
   "name": "python3"
  },
  "language_info": {
   "codemirror_mode": {
    "name": "ipython",
    "version": 3
   },
   "file_extension": ".py",
   "mimetype": "text/x-python",
   "name": "python",
   "nbconvert_exporter": "python",
   "pygments_lexer": "ipython3",
   "version": "3.11.5"
  }
 },
 "nbformat": 4,
 "nbformat_minor": 5
}
