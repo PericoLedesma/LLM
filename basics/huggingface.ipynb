{
 "cells": [
  {
   "cell_type": "markdown",
   "id": "753376d9-9f92-415c-b29f-fed167b657c8",
   "metadata": {},
   "source": [
    "### Libraries"
   ]
  },
  {
   "cell_type": "code",
   "execution_count": 1,
   "id": "e903a2d0-5558-4ff9-8ab4-616429526d64",
   "metadata": {},
   "outputs": [],
   "source": [
    "import os\n",
    "from langchain import PromptTemplate, HuggingFaceHub, LLMChain\n",
    "from huggingface_hub import InferenceClient"
   ]
  },
  {
   "cell_type": "code",
   "execution_count": 2,
   "id": "4d189ef1-e370-4ae4-abb2-f447f2127495",
   "metadata": {},
   "outputs": [],
   "source": [
    "HUGGINGFACEHUB_API_TOKEN = os.environ.get('HUGGINGFACEHUB_API_TOKEN')"
   ]
  },
  {
   "cell_type": "markdown",
   "id": "9fd47b48-842a-4a8d-bea0-d2a4a3fb417f",
   "metadata": {},
   "source": [
    "--------"
   ]
  },
  {
   "cell_type": "code",
   "execution_count": 3,
   "id": "135f36aa-d1b1-44b1-a493-0008a136d42e",
   "metadata": {},
   "outputs": [],
   "source": [
    "prompt = PromptTemplate(\n",
    "    input_variables=[\"product\"],\n",
    "    template=\"What is a good name for a company that makes {product}\"\n",
    ")"
   ]
  },
  {
   "cell_type": "code",
   "execution_count": 4,
   "id": "c44ee521-b30c-49cc-8c7c-b112a22c0096",
   "metadata": {},
   "outputs": [],
   "source": [
    "# Hugging Face LLMS\n",
    "# REPO_ID = 'google/flan-t5-large'\n",
    "REPO_ID = 'mistralai/Mistral-7B-Instruct-v0.2'\n",
    "REPOD_ID=\"meta-llama/Llama-2-7b-chat-hf\""
   ]
  },
  {
   "cell_type": "code",
   "execution_count": 5,
   "id": "a228536e-dd39-45f0-ae76-6fc7fc63037b",
   "metadata": {},
   "outputs": [
    {
     "name": "stderr",
     "output_type": "stream",
     "text": [
      "/Users/pedrorodriguezdeledesmajimenez/anaconda3/envs/general/lib/python3.11/site-packages/huggingface_hub/utils/_deprecation.py:131: FutureWarning: 'InferenceApi' (from 'huggingface_hub.inference_api') is deprecated and will be removed from version '1.0'. `InferenceApi` client is deprecated in favor of the more feature-complete `InferenceClient`. Check out this guide to learn how to convert your script to use it: https://huggingface.co/docs/huggingface_hub/guides/inference#legacy-inferenceapi-client.\n",
      "  warnings.warn(warning_message, FutureWarning)\n"
     ]
    }
   ],
   "source": [
    "chain = LLMChain(llm=HuggingFaceHub(repo_id=REPO_ID, \n",
    "                                    model_kwargs={'temperature':0.7}),\n",
    "                 prompt = prompt)"
   ]
  },
  {
   "cell_type": "code",
   "execution_count": 6,
   "id": "7f6828b1-0e50-49fc-8af5-e46681b727bf",
   "metadata": {},
   "outputs": [
    {
     "data": {
      "text/plain": [
       "{'product': 'camara',\n",
       " 'text': ' covers?\\n\\nThere are a few things to consider when choosing a name for a company that makes camera covers:\\n\\n1. Relevance: The name should be relevant to the product or service you are offering. In this case, since you are making camera covers, the name should indicate that in some way.\\n2. Memorable: A memorable name is easier for customers to remember and refer to others.\\n3. Unique: A unique name sets your company apart from competitors'}"
      ]
     },
     "execution_count": 6,
     "metadata": {},
     "output_type": "execute_result"
    }
   ],
   "source": [
    "chain.invoke(\"camara\")"
   ]
  },
  {
   "cell_type": "markdown",
   "id": "64309563-3e29-4bd7-abdb-2b1e5b8ede93",
   "metadata": {},
   "source": [
    "----------"
   ]
  },
  {
   "cell_type": "code",
   "execution_count": 7,
   "id": "c496c951-3e9b-4ee4-abdf-d15cc9bd6d3d",
   "metadata": {},
   "outputs": [],
   "source": [
    "from langchain.llms import HuggingFacePipeline\n",
    "from transformers import AutoTokenizer, AutoModelForCausalLM, pipeline, AutoModelForSeq2SeqLM\n",
    "from accelerate import load_checkpoint_and_dispatch\n",
    "import accelerate"
   ]
  },
  {
   "cell_type": "code",
   "execution_count": 8,
   "id": "b0ccbf76-dd5a-44e6-ab3d-6c2f86c058cb",
   "metadata": {},
   "outputs": [],
   "source": [
    "model_id='google/flan-t5-large'\n"
   ]
  },
  {
   "cell_type": "code",
   "execution_count": 18,
   "id": "2933c57b-ba73-4f65-9cc9-9f4c2272f007",
   "metadata": {},
   "outputs": [],
   "source": [
    "tokenizer=AutoTokenizer.from_pretrained(model_id)"
   ]
  },
  {
   "cell_type": "code",
   "execution_count": 19,
   "id": "723b9f8a-9cb8-4e01-90f4-24d0a0107d93",
   "metadata": {},
   "outputs": [],
   "source": [
    "model = AutoModelForSeq2SeqLM.from_pretrained(model_id,\n",
    "                                              device_map='auto')"
   ]
  },
  {
   "cell_type": "code",
   "execution_count": 11,
   "id": "49294e11-092e-4df3-af3c-d3e1576cceae",
   "metadata": {},
   "outputs": [],
   "source": [
    "pipeline = pipeline(\"text2text-generation\", \n",
    "                    model=model, \n",
    "                    tokenizer=tokenizer, \n",
    "                    max_length=128)"
   ]
  },
  {
   "cell_type": "code",
   "execution_count": 12,
   "id": "735ec307-172a-422a-8e8f-59de9cd5599a",
   "metadata": {},
   "outputs": [],
   "source": [
    "local_llm = HuggingFacePipeline(pipeline=pipeline)"
   ]
  },
  {
   "cell_type": "code",
   "execution_count": 13,
   "id": "11857701-e5c5-438a-abd8-adbdd441b240",
   "metadata": {},
   "outputs": [],
   "source": [
    "prompt = PromptTemplate(\n",
    "    input_variables=[\"name\"],\n",
    "    template=\"Can you tell me about footballer {name}\"\n",
    ")"
   ]
  },
  {
   "cell_type": "code",
   "execution_count": 14,
   "id": "233ecb42-49fc-4c98-88c0-1af91a9aedee",
   "metadata": {},
   "outputs": [],
   "source": [
    "chain = LLMChain(llm=local_llm,\n",
    "                 prompt = prompt)"
   ]
  },
  {
   "cell_type": "code",
   "execution_count": 16,
   "id": "38f8ea52-d7bd-415a-a469-18ffd4f8a962",
   "metadata": {},
   "outputs": [
    {
     "data": {
      "text/plain": [
       "{'name': 'Cristiano Ronaldo ',\n",
       " 'text': 'Cristiano Ronaldo ( born 10 May 1984) is a Portuguese footballer who plays for Real Madrid in the Serie A.'}"
      ]
     },
     "execution_count": 16,
     "metadata": {},
     "output_type": "execute_result"
    }
   ],
   "source": [
    "chain.invoke(\"Cristiano Ronaldo \")"
   ]
  },
  {
   "cell_type": "code",
   "execution_count": 20,
   "id": "e08eadb5-506c-4910-8eaa-ca1b3da74ad2",
   "metadata": {},
   "outputs": [],
   "source": [
    "chain2 = LLMChain(llm=local_llm,\n",
    "                  prompt = prompt)"
   ]
  },
  {
   "cell_type": "code",
   "execution_count": 21,
   "id": "bac91055-7d09-49ff-8d33-b556aa8871af",
   "metadata": {},
   "outputs": [
    {
     "data": {
      "text/plain": [
       "{'name': 'Cristiano Ronaldo ',\n",
       " 'text': 'Cristiano Ronaldo ( born 10 May 1984) is a Portuguese footballer who plays for Real Madrid in the Serie A.'}"
      ]
     },
     "execution_count": 21,
     "metadata": {},
     "output_type": "execute_result"
    }
   ],
   "source": [
    "chain.invoke(\"Cristiano Ronaldo \")"
   ]
  }
 ],
 "metadata": {
  "kernelspec": {
   "display_name": "Python 3 (ipykernel)",
   "language": "python",
   "name": "python3"
  },
  "language_info": {
   "codemirror_mode": {
    "name": "ipython",
    "version": 3
   },
   "file_extension": ".py",
   "mimetype": "text/x-python",
   "name": "python",
   "nbconvert_exporter": "python",
   "pygments_lexer": "ipython3",
   "version": "3.11.7"
  }
 },
 "nbformat": 4,
 "nbformat_minor": 5
}
