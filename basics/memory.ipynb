{
 "cells": [
  {
   "cell_type": "code",
   "execution_count": 9,
   "id": "4ce49516-ef02-4a8f-8a9e-2d1720b4e08c",
   "metadata": {},
   "outputs": [],
   "source": [
    "import os\n",
    "import langchain \n",
    "from langchain.llms import OpenAI\n",
    "from langchain.chains import LLMChain\n",
    "from langchain.prompts import PromptTemplate"
   ]
  },
  {
   "cell_type": "code",
   "execution_count": 10,
   "id": "44f310bf-ca3b-4029-bc35-73cbc4447b84",
   "metadata": {},
   "outputs": [],
   "source": [
    "client=OpenAI(openai_api_key=os.environ.get(\"OPENAI_API_KEY\"))"
   ]
  },
  {
   "cell_type": "markdown",
   "id": "426b370e-ac21-4d81-b6b7-5275b6bcc8cd",
   "metadata": {},
   "source": [
    "# Memory "
   ]
  },
  {
   "cell_type": "code",
   "execution_count": 17,
   "id": "26563ab1-d09f-4db6-ab92-68a058a78a7e",
   "metadata": {},
   "outputs": [
    {
     "data": {
      "text/plain": [
       "PromptTemplate(input_variables=['product'], template='What is a good name for a company that makes {product}?')"
      ]
     },
     "execution_count": 17,
     "metadata": {},
     "output_type": "execute_result"
    }
   ],
   "source": [
    "promtp_template_name=PromptTemplate(\n",
    "    input_variables=['product'],\n",
    "    template=\"What is a good name for a company that makes {product}?\"\n",
    ")\n",
    "prompt_template"
   ]
  },
  {
   "cell_type": "code",
   "execution_count": 18,
   "id": "7c02175a-6162-4b2e-aeed-6eff8c90bcec",
   "metadata": {},
   "outputs": [],
   "source": [
    "chain=LLMChain(llm=client,\n",
    "              prompt=promtp_template_name,\n",
    "              verbose=True)"
   ]
  },
  {
   "cell_type": "code",
   "execution_count": 19,
   "id": "ec6aadfc-9890-42b8-8ff4-e0d770fc703a",
   "metadata": {},
   "outputs": [
    {
     "name": "stderr",
     "output_type": "stream",
     "text": [
      "/Users/pedrorodriguezdeledesmajimenez/anaconda3/envs/general/lib/python3.11/site-packages/langchain_core/_api/deprecation.py:117: LangChainDeprecationWarning: The function `__call__` was deprecated in LangChain 0.1.0 and will be removed in 0.2.0. Use invoke instead.\n",
      "  warn_deprecated(\n"
     ]
    },
    {
     "data": {
      "text/plain": [
       "{'product': 'colorfull cup', 'text': '\\n\\nRainbow Cups Co.'}"
      ]
     },
     "execution_count": 19,
     "metadata": {},
     "output_type": "execute_result"
    }
   ],
   "source": [
    "chain(\"colorfull cup\")"
   ]
  },
  {
   "cell_type": "code",
   "execution_count": 20,
   "id": "5fce95e3-71bf-40fe-8e34-7606f49e4696",
   "metadata": {},
   "outputs": [
    {
     "data": {
      "text/plain": [
       "{'product': 'drons', 'text': '\\n\"SkyTech Drones\" '}"
      ]
     },
     "execution_count": 20,
     "metadata": {},
     "output_type": "execute_result"
    }
   ],
   "source": [
    "chain(\"drons\")"
   ]
  },
  {
   "cell_type": "code",
   "execution_count": 21,
   "id": "662ec3e8-de8b-4b4b-8192-8a2ff5e177a3",
   "metadata": {},
   "outputs": [],
   "source": [
    "chain.memory"
   ]
  },
  {
   "cell_type": "code",
   "execution_count": 22,
   "id": "80734722-42c9-4c9e-8ae7-8cac02d143a8",
   "metadata": {},
   "outputs": [
    {
     "data": {
      "text/plain": [
       "NoneType"
      ]
     },
     "execution_count": 22,
     "metadata": {},
     "output_type": "execute_result"
    }
   ],
   "source": [
    "type(chain.memory)"
   ]
  },
  {
   "cell_type": "markdown",
   "id": "ea6eb979-55a2-4952-96e5-c3c748028b85",
   "metadata": {},
   "source": [
    "## ConversationBufferMemory\n",
    "We can attach memory to remember all previous conversation"
   ]
  },
  {
   "cell_type": "code",
   "execution_count": 47,
   "id": "ac425e9c-601a-428a-a721-a1f18afe2581",
   "metadata": {},
   "outputs": [],
   "source": [
    "from langchain.memory import ConversationBufferMemory"
   ]
  },
  {
   "cell_type": "code",
   "execution_count": 48,
   "id": "0bfc3f13-a602-4fce-9f52-3915f4f72254",
   "metadata": {},
   "outputs": [],
   "source": [
    "memory=ConversationBufferMemory()"
   ]
  },
  {
   "cell_type": "code",
   "execution_count": 49,
   "id": "1a49e91e-6c80-4ab0-acb0-929e3f9a983b",
   "metadata": {},
   "outputs": [
    {
     "data": {
      "text/plain": [
       "PromptTemplate(input_variables=['product'], template='What is a good name for a company that makes {product}?')"
      ]
     },
     "execution_count": 49,
     "metadata": {},
     "output_type": "execute_result"
    }
   ],
   "source": [
    "promtp_template_name=PromptTemplate(\n",
    "    input_variables=['product'],\n",
    "    template=\"What is a good name for a company that makes {product}?. Just one name\"\n",
    ")\n",
    "prompt_template"
   ]
  },
  {
   "cell_type": "code",
   "execution_count": 50,
   "id": "d5969f20-b0fb-47c9-80d7-cd2a95e254e0",
   "metadata": {},
   "outputs": [],
   "source": [
    "chain=LLMChain(llm=client,\n",
    "              prompt=promtp_template_name,\n",
    "               memory=memory,\n",
    "              verbose=True)"
   ]
  },
  {
   "cell_type": "code",
   "execution_count": 51,
   "id": "393459b1-fa72-4c1d-bf0e-70e2fadde482",
   "metadata": {},
   "outputs": [
    {
     "name": "stdout",
     "output_type": "stream",
     "text": [
      "\n",
      "\n",
      "\u001b[1m> Entering new LLMChain chain...\u001b[0m\n",
      "Prompt after formatting:\n",
      "\u001b[32;1m\u001b[1;3mWhat is a good name for a company that makes wines?. Just one name\u001b[0m\n",
      "\n",
      "\u001b[1m> Finished chain.\u001b[0m\n"
     ]
    },
    {
     "data": {
      "text/plain": [
       "{'product': 'wines', 'history': '', 'text': '\\n\\nVinoteca'}"
      ]
     },
     "execution_count": 51,
     "metadata": {},
     "output_type": "execute_result"
    }
   ],
   "source": [
    "chain(\"wines\")"
   ]
  },
  {
   "cell_type": "code",
   "execution_count": 52,
   "id": "f4301ab2-08d7-435a-957c-ff2e5853d982",
   "metadata": {},
   "outputs": [
    {
     "name": "stdout",
     "output_type": "stream",
     "text": [
      "\n",
      "\n",
      "\u001b[1m> Entering new LLMChain chain...\u001b[0m\n",
      "Prompt after formatting:\n",
      "\u001b[32;1m\u001b[1;3mWhat is a good name for a company that makes dron?. Just one name\u001b[0m\n",
      "\n",
      "\u001b[1m> Finished chain.\u001b[0m\n"
     ]
    },
    {
     "data": {
      "text/plain": [
       "{'product': 'dron',\n",
       " 'history': 'Human: wines\\nAI: \\n\\nVinoteca',\n",
       " 'text': '\\n\\n\"SkyTech Drones\"'}"
      ]
     },
     "execution_count": 52,
     "metadata": {},
     "output_type": "execute_result"
    }
   ],
   "source": [
    "chain(\"dron\")"
   ]
  },
  {
   "cell_type": "code",
   "execution_count": 53,
   "id": "48196443-6202-457a-b073-998d3b3f7f8d",
   "metadata": {},
   "outputs": [
    {
     "data": {
      "text/plain": [
       "ConversationBufferMemory(chat_memory=ChatMessageHistory(messages=[HumanMessage(content='wines'), AIMessage(content='\\n\\nVinoteca'), HumanMessage(content='dron'), AIMessage(content='\\n\\n\"SkyTech Drones\"')]))"
      ]
     },
     "execution_count": 53,
     "metadata": {},
     "output_type": "execute_result"
    }
   ],
   "source": [
    "chain.memory"
   ]
  },
  {
   "cell_type": "code",
   "execution_count": 54,
   "id": "f2bd5843-5fdd-4564-bbdb-23b1c16c1c89",
   "metadata": {},
   "outputs": [
    {
     "name": "stdout",
     "output_type": "stream",
     "text": [
      "Human: wines\n",
      "AI: \n",
      "\n",
      "Vinoteca\n",
      "Human: dron\n",
      "AI: \n",
      "\n",
      "\"SkyTech Drones\"\n"
     ]
    }
   ],
   "source": [
    "print(chain.memory.buffer)"
   ]
  },
  {
   "cell_type": "markdown",
   "id": "f553bcb5-2aa7-4fb3-950a-4af5ece4ab1c",
   "metadata": {},
   "source": [
    "## ConversationChain\n",
    "\n"
   ]
  },
  {
   "cell_type": "code",
   "execution_count": 59,
   "id": "b50de3e0-3d4a-4f22-8985-42a65ffbe982",
   "metadata": {},
   "outputs": [],
   "source": [
    "from langchain.chains import ConversationChain"
   ]
  },
  {
   "cell_type": "code",
   "execution_count": 61,
   "id": "02df868c-25cd-49d9-9286-07b377179c5e",
   "metadata": {},
   "outputs": [],
   "source": [
    "convo=ConversationChain(llm=client)"
   ]
  },
  {
   "cell_type": "code",
   "execution_count": 62,
   "id": "c5f03dec-b3fb-455b-a1ed-1d093a052433",
   "metadata": {},
   "outputs": [
    {
     "data": {
      "text/plain": [
       "PromptTemplate(input_variables=['history', 'input'], template='The following is a friendly conversation between a human and an AI. The AI is talkative and provides lots of specific details from its context. If the AI does not know the answer to a question, it truthfully says it does not know.\\n\\nCurrent conversation:\\n{history}\\nHuman: {input}\\nAI:')"
      ]
     },
     "execution_count": 62,
     "metadata": {},
     "output_type": "execute_result"
    }
   ],
   "source": [
    "convo.prompt"
   ]
  },
  {
   "cell_type": "code",
   "execution_count": 63,
   "id": "8cf071d5-8001-47c6-97b3-7a139dca89e0",
   "metadata": {},
   "outputs": [
    {
     "data": {
      "text/plain": [
       "'The following is a friendly conversation between a human and an AI. The AI is talkative and provides lots of specific details from its context. If the AI does not know the answer to a question, it truthfully says it does not know.\\n\\nCurrent conversation:\\n{history}\\nHuman: {input}\\nAI:'"
      ]
     },
     "execution_count": 63,
     "metadata": {},
     "output_type": "execute_result"
    }
   ],
   "source": [
    "convo.prompt.template"
   ]
  },
  {
   "cell_type": "code",
   "execution_count": 65,
   "id": "420eba2c-b374-4f05-a01c-8ad297e73ef8",
   "metadata": {},
   "outputs": [
    {
     "data": {
      "text/plain": [
       "{'input': 'Who won the last rugby world cup?',\n",
       " 'history': 'Human: Who won the last rugby world cup?\\nAI:  The last Rugby World Cup was won by South Africa in 2019. They beat England in the final with a score of 32-12. The tournament was held in Japan, with 20 teams participating. It was the ninth edition of the Rugby World Cup and the first time it was held in Asia. South Africa has now won the Rugby World Cup three times, in 1995, 2007, and 2019.',\n",
       " 'response': ' The last Rugby World Cup was won by South Africa in 2019.'}"
      ]
     },
     "execution_count": 65,
     "metadata": {},
     "output_type": "execute_result"
    }
   ],
   "source": [
    "convo.invoke(\"Who won the last rugby world cup?\")"
   ]
  },
  {
   "cell_type": "code",
   "execution_count": 66,
   "id": "a04562cc-f7c1-417e-85da-a81b57812e51",
   "metadata": {},
   "outputs": [
    {
     "data": {
      "text/plain": [
       "{'input': 'Who is Hernan Cortes?',\n",
       " 'history': 'Human: Who won the last rugby world cup?\\nAI:  The last Rugby World Cup was won by South Africa in 2019. They beat England in the final with a score of 32-12. The tournament was held in Japan, with 20 teams participating. It was the ninth edition of the Rugby World Cup and the first time it was held in Asia. South Africa has now won the Rugby World Cup three times, in 1995, 2007, and 2019.\\nHuman: Who won the last rugby world cup?\\nAI:  The last Rugby World Cup was won by South Africa in 2019.',\n",
       " 'response': ' Hernan Cortes was a Spanish conquistador who led the expedition that caused the fall of the Aztec Empire in the early 16th century. He is known for his ruthless tactics and his role in the colonization of Mexico. He also established the city of Veracruz, which served as a base for Spanish conquests in the region.'}"
      ]
     },
     "execution_count": 66,
     "metadata": {},
     "output_type": "execute_result"
    }
   ],
   "source": [
    "convo.invoke(\"Who is Hernan Cortes?\")"
   ]
  },
  {
   "cell_type": "code",
   "execution_count": 67,
   "id": "03fe63fc-69e9-4d00-acd0-f8c82ef3eda3",
   "metadata": {},
   "outputs": [
    {
     "data": {
      "text/plain": [
       "{'input': 'And who was the captain of the winner team?',\n",
       " 'history': 'Human: Who won the last rugby world cup?\\nAI:  The last Rugby World Cup was won by South Africa in 2019. They beat England in the final with a score of 32-12. The tournament was held in Japan, with 20 teams participating. It was the ninth edition of the Rugby World Cup and the first time it was held in Asia. South Africa has now won the Rugby World Cup three times, in 1995, 2007, and 2019.\\nHuman: Who won the last rugby world cup?\\nAI:  The last Rugby World Cup was won by South Africa in 2019.\\nHuman: Who is Hernan Cortes?\\nAI:  Hernan Cortes was a Spanish conquistador who led the expedition that caused the fall of the Aztec Empire in the early 16th century. He is known for his ruthless tactics and his role in the colonization of Mexico. He also established the city of Veracruz, which served as a base for Spanish conquests in the region.',\n",
       " 'response': ' The captain of the South African team during the 2019 Rugby World Cup was Siya Kolisi. He was the first black captain in the history of South African rugby and led his team to victory with his strong leadership skills and determination. He is a beloved figure in South Africa and has become an inspiration for many young players.'}"
      ]
     },
     "execution_count": 67,
     "metadata": {},
     "output_type": "execute_result"
    }
   ],
   "source": [
    "convo.invoke(\"And who was the captain of the winner team?\")"
   ]
  },
  {
   "cell_type": "markdown",
   "id": "bc31d2d7-0106-4948-8e48-832174848c61",
   "metadata": {},
   "source": [
    "-------------"
   ]
  },
  {
   "cell_type": "markdown",
   "id": "27ad49a3-dd61-4743-82cb-3e1ea499eb85",
   "metadata": {},
   "source": [
    "## ConversationBufferWindowMemory"
   ]
  },
  {
   "cell_type": "code",
   "execution_count": 70,
   "id": "c9628c08-6079-4ada-9c04-e145930431dc",
   "metadata": {},
   "outputs": [],
   "source": [
    "from langchain.memory import ConversationBufferWindowMemory"
   ]
  },
  {
   "cell_type": "code",
   "execution_count": 79,
   "id": "ac852678-a34b-44c7-8955-ffed0229fcc4",
   "metadata": {},
   "outputs": [],
   "source": [
    "memory= ConversationBufferWindowMemory(k=1) # K WINDOW MEMORY"
   ]
  },
  {
   "cell_type": "code",
   "execution_count": 80,
   "id": "09205984-32c2-464d-89e1-39c504599299",
   "metadata": {},
   "outputs": [],
   "source": [
    "convo=ConversationChain(llm=client,\n",
    "                       memory=memory)"
   ]
  },
  {
   "cell_type": "code",
   "execution_count": 81,
   "id": "811df27a-9151-41d8-ac70-4ca59236cafd",
   "metadata": {},
   "outputs": [
    {
     "data": {
      "text/plain": [
       "{'input': 'Who won the last rugby world cup?',\n",
       " 'history': '',\n",
       " 'response': ' The last Rugby World Cup was won by South Africa in 2019. It was their third title, having previously won in 1995 and 2007. The final was held in Yokohama, Japan and South Africa defeated England 32-12. It was a historic win for South Africa, as it was the first time a team had won the Rugby World Cup after losing a match in the pool stage. The Springboks, as they are nicknamed, had an impressive run throughout the tournament, only losing one game in the pool stage and then winning all of their knockout matches. Their captain, Siya Kolisi, also made history as the first black captain to lead South Africa to a Rugby World Cup victory. It was a momentous event for both the team and the country.'}"
      ]
     },
     "execution_count": 81,
     "metadata": {},
     "output_type": "execute_result"
    }
   ],
   "source": [
    "convo.invoke(\"Who won the last rugby world cup?\")"
   ]
  },
  {
   "cell_type": "code",
   "execution_count": 82,
   "id": "028f6143-9dba-4c16-90b4-c804dfbb6857",
   "metadata": {},
   "outputs": [
    {
     "data": {
      "text/plain": [
       "{'input': 'Who is Hernan Cortes?',\n",
       " 'history': 'Human: Who won the last rugby world cup?\\nAI:  The last Rugby World Cup was won by South Africa in 2019. It was their third title, having previously won in 1995 and 2007. The final was held in Yokohama, Japan and South Africa defeated England 32-12. It was a historic win for South Africa, as it was the first time a team had won the Rugby World Cup after losing a match in the pool stage. The Springboks, as they are nicknamed, had an impressive run throughout the tournament, only losing one game in the pool stage and then winning all of their knockout matches. Their captain, Siya Kolisi, also made history as the first black captain to lead South Africa to a Rugby World Cup victory. It was a momentous event for both the team and the country.',\n",
       " 'response': ' Hernan Cortes was a Spanish conquistador who is best known for his role in the Spanish conquest of the Aztec Empire in the early 16th century. He was born in 1485 in Medellín, Spain and grew up in a noble family. In 1519, he set sail for the New World with an expedition led by Diego Velázquez de Cuéllar. Cortes and his men landed in present-day Mexico and began their conquest of the Aztec Empire, which was then ruled by Emperor Montezuma II. Despite facing resistance from the Aztecs, Cortes was able to form alliances with other indigenous groups and eventually defeat the Aztecs in 1521. He then became the governor of New Spain and continued to lead expeditions and establish Spanish colonies in the region. Cortes is a controversial figure, as his actions led to the downfall of the Aztec Empire and the colonization of indigenous peoples in the Americas.'}"
      ]
     },
     "execution_count": 82,
     "metadata": {},
     "output_type": "execute_result"
    }
   ],
   "source": [
    "convo.invoke(\"Who is Hernan Cortes?\")"
   ]
  },
  {
   "cell_type": "code",
   "execution_count": 83,
   "id": "2399d589-e808-4009-92cf-7b54025a898d",
   "metadata": {},
   "outputs": [
    {
     "data": {
      "text/plain": [
       "{'input': 'And who was the captain of the winner team?',\n",
       " 'history': 'Human: Who is Hernan Cortes?\\nAI:  Hernan Cortes was a Spanish conquistador who is best known for his role in the Spanish conquest of the Aztec Empire in the early 16th century. He was born in 1485 in Medellín, Spain and grew up in a noble family. In 1519, he set sail for the New World with an expedition led by Diego Velázquez de Cuéllar. Cortes and his men landed in present-day Mexico and began their conquest of the Aztec Empire, which was then ruled by Emperor Montezuma II. Despite facing resistance from the Aztecs, Cortes was able to form alliances with other indigenous groups and eventually defeat the Aztecs in 1521. He then became the governor of New Spain and continued to lead expeditions and establish Spanish colonies in the region. Cortes is a controversial figure, as his actions led to the downfall of the Aztec Empire and the colonization of indigenous peoples in the Americas.',\n",
       " 'response': ' I am sorry, I do not have enough information to answer that question. Can you provide more context or specify which team you are referring to?'}"
      ]
     },
     "execution_count": 83,
     "metadata": {},
     "output_type": "execute_result"
    }
   ],
   "source": [
    "convo.invoke(\"And who was the captain of the winner team?\")"
   ]
  },
  {
   "cell_type": "code",
   "execution_count": null,
   "id": "4496cfc0-68dd-435b-afb5-793972d33d82",
   "metadata": {},
   "outputs": [],
   "source": []
  },
  {
   "cell_type": "code",
   "execution_count": null,
   "id": "418ef33d-fe5f-400b-a7f8-326b3fa3cbd4",
   "metadata": {},
   "outputs": [],
   "source": []
  },
  {
   "cell_type": "code",
   "execution_count": null,
   "id": "0dc6d249-3443-47df-b2e3-64c370d9c260",
   "metadata": {},
   "outputs": [],
   "source": []
  },
  {
   "cell_type": "code",
   "execution_count": null,
   "id": "d5262b36-7755-4a07-ad2c-d4e80c4a7873",
   "metadata": {},
   "outputs": [],
   "source": []
  }
 ],
 "metadata": {
  "kernelspec": {
   "display_name": "Python 3 (ipykernel)",
   "language": "python",
   "name": "python3"
  },
  "language_info": {
   "codemirror_mode": {
    "name": "ipython",
    "version": 3
   },
   "file_extension": ".py",
   "mimetype": "text/x-python",
   "name": "python",
   "nbconvert_exporter": "python",
   "pygments_lexer": "ipython3",
   "version": "3.11.7"
  }
 },
 "nbformat": 4,
 "nbformat_minor": 5
}
