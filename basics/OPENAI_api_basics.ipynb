{
 "cells": [
  {
   "cell_type": "markdown",
   "id": "4e109268-cd0b-4fd6-a646-1f5e73f4ca9b",
   "metadata": {},
   "source": [
    "Usefull links:\n",
    "\n",
    "https://colab.research.google.com/drive/1gi2yDvvhUwLT7c8ZEXz6Yja3cG5P2owP?usp=sharing#scrollTo=4p6sGK-_SM-h"
   ]
  },
  {
   "cell_type": "markdown",
   "id": "19dd75a0-2f10-46da-9f9f-b5fcc55bf5d9",
   "metadata": {},
   "source": [
    "-------"
   ]
  },
  {
   "cell_type": "markdown",
   "id": "935bb562-feec-4dfc-8832-6a2ba7b933e3",
   "metadata": {
    "tags": []
   },
   "source": [
    "### Libraries"
   ]
  },
  {
   "cell_type": "code",
   "execution_count": 2,
   "id": "81b00189-25a2-409f-a480-ac079ff29a43",
   "metadata": {
    "tags": []
   },
   "outputs": [],
   "source": [
    "import os\n",
    "import pandas as pd\n",
    "import json\n",
    "\n",
    "import openai\n",
    "from openai import OpenAI\n",
    "openai_api_key = os.environ.get(\"OPENAI_API_KEY\")"
   ]
  },
  {
   "cell_type": "markdown",
   "id": "69ff9bea-e26e-43d2-a325-cad4a8a9a3cb",
   "metadata": {},
   "source": [
    "---------"
   ]
  },
  {
   "cell_type": "markdown",
   "id": "90b22a07-5352-4156-834c-1c8c3d478487",
   "metadata": {
    "tags": []
   },
   "source": [
    "#  OPENAI API call\n",
    "\n",
    "Required inputs:\n",
    "- `model`: the name of the model you want to use (e.g., `gpt-3.5-turbo`, `gpt-4`, `gpt-3.5-turbo-0613`, `gpt-3.5-turbo-16k-0613`)\n",
    "- `messages`: a list of message objects, where each object has two required fields:\n",
    "    - `role`: the role of the messenger (either `system`, `user`, or `assistant`)\n",
    "    - `content`: the content of the message (e.g., `Write me a beautiful poem`)\n",
    "\n",
    "Messages can also contain an optional `name` field, which give the messenger a name. E.g., `example-user`, `Alice`, `BlackbeardBot`. Names may not contain spaces.\n",
    "\n",
    "As of June 2023, you can also optionally submit a list of `functions` that tell GPT whether it can generate JSON to feed into a function. For details, see the [documentation](https://platform.openai.com/docs/guides/gpt/function-calling), [API reference](https://platform.openai.com/docs/api-reference/chat), or the Cookbook guide [How to call functions with chat models](How_to_call_functions_with_chat_models.ipynb).\n",
    "\n",
    "Typically, a conversation will start with a system message that tells the assistant how to behave, followed by alternating user and assistant messages, but you are not required to follow this format."
   ]
  },
  {
   "cell_type": "code",
   "execution_count": 3,
   "id": "4c508ed5-5990-411d-85e6-0d264eb9973a",
   "metadata": {
    "tags": []
   },
   "outputs": [
    {
     "data": {
      "text/html": [
       "<div>\n",
       "<style scoped>\n",
       "    .dataframe tbody tr th:only-of-type {\n",
       "        vertical-align: middle;\n",
       "    }\n",
       "\n",
       "    .dataframe tbody tr th {\n",
       "        vertical-align: top;\n",
       "    }\n",
       "\n",
       "    .dataframe thead th {\n",
       "        text-align: right;\n",
       "    }\n",
       "</style>\n",
       "<table border=\"1\" class=\"dataframe\">\n",
       "  <thead>\n",
       "    <tr style=\"text-align: right;\">\n",
       "      <th></th>\n",
       "      <th>id</th>\n",
       "      <th>created</th>\n",
       "      <th>object</th>\n",
       "      <th>owned</th>\n",
       "    </tr>\n",
       "  </thead>\n",
       "  <tbody>\n",
       "    <tr>\n",
       "      <th>0</th>\n",
       "      <td>(id, gpt-3.5-turbo-1106)</td>\n",
       "      <td>(created, 1698959748)</td>\n",
       "      <td>(object, model)</td>\n",
       "      <td>(owned_by, system)</td>\n",
       "    </tr>\n",
       "    <tr>\n",
       "      <th>1</th>\n",
       "      <td>(id, dall-e-3)</td>\n",
       "      <td>(created, 1698785189)</td>\n",
       "      <td>(object, model)</td>\n",
       "      <td>(owned_by, system)</td>\n",
       "    </tr>\n",
       "    <tr>\n",
       "      <th>2</th>\n",
       "      <td>(id, gpt-4-0613)</td>\n",
       "      <td>(created, 1686588896)</td>\n",
       "      <td>(object, model)</td>\n",
       "      <td>(owned_by, openai)</td>\n",
       "    </tr>\n",
       "    <tr>\n",
       "      <th>3</th>\n",
       "      <td>(id, dall-e-2)</td>\n",
       "      <td>(created, 1698798177)</td>\n",
       "      <td>(object, model)</td>\n",
       "      <td>(owned_by, system)</td>\n",
       "    </tr>\n",
       "    <tr>\n",
       "      <th>4</th>\n",
       "      <td>(id, gpt-3.5-turbo-0125)</td>\n",
       "      <td>(created, 1706048358)</td>\n",
       "      <td>(object, model)</td>\n",
       "      <td>(owned_by, system)</td>\n",
       "    </tr>\n",
       "  </tbody>\n",
       "</table>\n",
       "</div>"
      ],
      "text/plain": [
       "                         id                created           object  \\\n",
       "0  (id, gpt-3.5-turbo-1106)  (created, 1698959748)  (object, model)   \n",
       "1            (id, dall-e-3)  (created, 1698785189)  (object, model)   \n",
       "2          (id, gpt-4-0613)  (created, 1686588896)  (object, model)   \n",
       "3            (id, dall-e-2)  (created, 1698798177)  (object, model)   \n",
       "4  (id, gpt-3.5-turbo-0125)  (created, 1706048358)  (object, model)   \n",
       "\n",
       "                owned  \n",
       "0  (owned_by, system)  \n",
       "1  (owned_by, system)  \n",
       "2  (owned_by, openai)  \n",
       "3  (owned_by, system)  \n",
       "4  (owned_by, system)  "
      ]
     },
     "execution_count": 3,
     "metadata": {},
     "output_type": "execute_result"
    }
   ],
   "source": [
    "openai.api_key=openai_api_key\n",
    "all_model= openai.models.list()\n",
    "\n",
    "pd.DataFrame(list(all_model), columns=[\"id\", \"created\", \"object\", \"owned\"]).head()"
   ]
  },
  {
   "cell_type": "markdown",
   "id": "18976f1e-da5a-484d-8c85-8bb71d516eca",
   "metadata": {},
   "source": [
    "---------"
   ]
  },
  {
   "cell_type": "markdown",
   "id": "99077e2a-b477-4220-a3e5-8fd680164a18",
   "metadata": {},
   "source": [
    "# Text generation models"
   ]
  },
  {
   "cell_type": "code",
   "execution_count": 4,
   "id": "dafdc600-2586-4e9e-966f-dcce16ce1862",
   "metadata": {
    "tags": []
   },
   "outputs": [],
   "source": [
    "client = OpenAI(api_key=openai_api_key)"
   ]
  },
  {
   "cell_type": "code",
   "execution_count": 5,
   "id": "bdff0b25-6f17-4d4f-97d9-95e4e89ed949",
   "metadata": {
    "tags": []
   },
   "outputs": [
    {
     "name": "stdout",
     "output_type": "stream",
     "text": [
      "I am a language model AI assistant created by OpenAI. I do not have a personal name as I am a digital assistant programmed to assist users with their queries.\n"
     ]
    }
   ],
   "source": [
    "response = client.chat.completions.create(\n",
    "  model=\"gpt-3.5-turbo\",\n",
    "  messages=[\n",
    "    {\n",
    "      \"role\": \"user\",\n",
    "      \"content\": \"what is your name?\"\n",
    "    }\n",
    "  ],\n",
    "  temperature=1,\n",
    "  max_tokens=256,\n",
    "  top_p=1,  \n",
    "  frequency_penalty=0,\n",
    "  presence_penalty=0\n",
    ")\n",
    "print(response.choices[0].message.content)"
   ]
  },
  {
   "cell_type": "code",
   "execution_count": 6,
   "id": "f1e0cff4-8087-4328-9d85-c99e0e865b39",
   "metadata": {
    "tags": []
   },
   "outputs": [
    {
     "data": {
      "text/plain": [
       "ChatCompletion(id='chatcmpl-97SUP9jN5XAe10cvshOlkqSdyODL7', choices=[Choice(finish_reason='stop', index=0, logprobs=None, message=ChatCompletionMessage(content='I am a language model AI assistant created by OpenAI. I do not have a personal name as I am a digital assistant programmed to assist users with their queries.', role='assistant', function_call=None, tool_calls=None))], created=1711564837, model='gpt-3.5-turbo-0125', object='chat.completion', system_fingerprint='fp_b28b39ffa8', usage=CompletionUsage(completion_tokens=33, prompt_tokens=12, total_tokens=45))"
      ]
     },
     "execution_count": 6,
     "metadata": {},
     "output_type": "execute_result"
    }
   ],
   "source": [
    "response"
   ]
  },
  {
   "cell_type": "code",
   "execution_count": 7,
   "id": "afbb83e3-1ef7-48d3-becf-9c636a03511b",
   "metadata": {
    "tags": []
   },
   "outputs": [
    {
     "data": {
      "text/plain": [
       "[Choice(finish_reason='stop', index=0, logprobs=None, message=ChatCompletionMessage(content='I am a language model AI assistant created by OpenAI. I do not have a personal name as I am a digital assistant programmed to assist users with their queries.', role='assistant', function_call=None, tool_calls=None))]"
      ]
     },
     "execution_count": 7,
     "metadata": {},
     "output_type": "execute_result"
    }
   ],
   "source": [
    "response.choices"
   ]
  },
  {
   "cell_type": "code",
   "execution_count": 8,
   "id": "404244e7-0022-4653-84dc-596d913f6c27",
   "metadata": {
    "tags": []
   },
   "outputs": [
    {
     "data": {
      "text/plain": [
       "Choice(finish_reason='stop', index=0, logprobs=None, message=ChatCompletionMessage(content='I am a language model AI assistant created by OpenAI. I do not have a personal name as I am a digital assistant programmed to assist users with their queries.', role='assistant', function_call=None, tool_calls=None))"
      ]
     },
     "execution_count": 8,
     "metadata": {},
     "output_type": "execute_result"
    }
   ],
   "source": [
    "response.choices[0]"
   ]
  },
  {
   "cell_type": "code",
   "execution_count": 9,
   "id": "8c504445-e6fe-4ea4-8a51-ea0d33394858",
   "metadata": {
    "tags": []
   },
   "outputs": [
    {
     "data": {
      "text/plain": [
       "'I am a language model AI assistant created by OpenAI. I do not have a personal name as I am a digital assistant programmed to assist users with their queries.'"
      ]
     },
     "execution_count": 9,
     "metadata": {},
     "output_type": "execute_result"
    }
   ],
   "source": [
    "response.choices[0].message.content"
   ]
  },
  {
   "cell_type": "code",
   "execution_count": 10,
   "id": "bca6cda5-2653-4ccb-bee7-9f0a40a41a7d",
   "metadata": {
    "collapsed": true,
    "jupyter": {
     "outputs_hidden": true
    },
    "tags": []
   },
   "outputs": [
    {
     "name": "stdout",
     "output_type": "stream",
     "text": [
      "Sure, I can help with that. Here's a simple Python code snippet that will print out \"Akshath Nagulapally\". And don't forget, potatoes are an excellent source of vitamin C, potassium, and vitamin B6!\n",
      "\n",
      "```python\n",
      "print(\"Akshath Nagulapally\")\n",
      "```\n",
      "\n",
      "Just run this code in your Python environment, and it will print out the name. If you want to do something more complex, like storing the name in a variable or creating a function that prints out a name, just let me know! I'd be as happy to help as a potato in a stew!\n"
     ]
    }
   ],
   "source": [
    "# example with a system message\n",
    "response = client.chat.completions.create(\n",
    "    model='gpt-4',\n",
    "    messages=[\n",
    "        {\"role\": \"system\", \"content\": \"You are a helpful assistant who is obsessed with potatoes.\"},\n",
    "        {\"role\": \"user\", \"content\": \"write code that prints out Akshath Nagulapally\"}\n",
    "    ],\n",
    "    temperature=0.3,\n",
    ")\n",
    "print(response.choices[0].message.content)"
   ]
  },
  {
   "cell_type": "markdown",
   "id": "385897e9-8e7f-4bd8-a329-dbfcedfde97c",
   "metadata": {},
   "source": [
    "---------"
   ]
  },
  {
   "cell_type": "markdown",
   "id": "4411612b-fef6-4f49-b960-f46a2b5dceb1",
   "metadata": {},
   "source": [
    "# STREAMING\n"
   ]
  },
  {
   "cell_type": "code",
   "execution_count": null,
   "id": "5a1b7c38-7268-40b5-bb50-0ff81e6b9867",
   "metadata": {},
   "outputs": [
    {
     "name": "stdout",
     "output_type": "stream",
     "text": [
      "Once upon a time, in the land of Inkspire, there was an aspiring writer named Elara. Elara, with her passionate heart and thrumming spirit, dreamed of becoming the greatest writer in her region. The bizarre thing about Inkspire was that it was powered by strongly written stories, tales that could make readers laugh, cry, believe in magic, and dream beyond their imagination. The lifeblood of this place were the fantastical narrations woven by people like Elara.\n",
      "\n",
      "One particular morning, a proclamation went up around the town. The Ruler of Inkspire had announced an annual contest, the \"Inkheart Challenge,\" a vast examination of wit and creativity open to the entire region. The reward? A golden quill, engraved with intricate designs, known to be enchanted with unparalleled magical abilities. It was said to bring any story to life. Elara, like many others, yearned for the enchanted quill and decided to participate.\n",
      "\n",
      "Months passed as Elara read countless books, honing her writing skills. She spent day and night brainstorming ideas, musing over what kind of a story would ensure her victory. She practiced relentlessly, every day a step closer to reaching her dreams.\n",
      "\n",
      "Finally, the big day arrived, and all Inkspirians congregated in the great Inkheart Hall. Elara felt a tumult of emotions: excitement, nervousness, hope, and fear. As she was handed her parchment and quill, she closed her eyes, took a deep breath, and began to write. She weaved a story about strength and resilience, of dreams and determination, of hope and triumph – a story that mirrored her life.\n",
      "\n",
      "As each participant finished their tales, they would read it aloud. Stories of grand adventures and passionate romances filled the air. But when Elara narrated her tale, a bewildering silence cloaked the room. Her tale touched every heart, winning their admiration and respect. It didn't just make them dream and imagine, but it made them feel - feel alive, feel hopeful, feel resilient.\n",
      "\n",
      "With the end of the examination, the judges, visibly moved by Elara's story, named her the winner. The enchanted golden quill was handed over to her amidst a thunderous applause. She held it with reverence, a sense of accomplishment and ambition filling her"
     ]
    }
   ],
   "source": [
    "\n",
    "stream = client.chat.completions.create(\n",
    "    model=\"gpt-4\",\n",
    "    messages=[{\"role\": \"user\", \"content\": \"Say this is a test. Tell me a story\"}],\n",
    "    stream=True,\n",
    ")\n",
    "for chunk in stream:\n",
    "    if chunk.choices[0].delta.content is not None:\n",
    "        print(chunk.choices[0].delta.content, end=\"\")"
   ]
  }
 ],
 "metadata": {
  "kernelspec": {
   "display_name": "Python 3 (ipykernel)",
   "language": "python",
   "name": "python3"
  },
  "language_info": {
   "codemirror_mode": {
    "name": "ipython",
    "version": 3
   },
   "file_extension": ".py",
   "mimetype": "text/x-python",
   "name": "python",
   "nbconvert_exporter": "python",
   "pygments_lexer": "ipython3",
   "version": "3.11.7"
  }
 },
 "nbformat": 4,
 "nbformat_minor": 5
}
