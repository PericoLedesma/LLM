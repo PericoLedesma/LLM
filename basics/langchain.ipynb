{
 "cells": [
  {
   "cell_type": "markdown",
   "id": "f8b9021b-bf8c-4ea8-ac29-d8f2ca96c636",
   "metadata": {},
   "source": [
    "### Libraries"
   ]
  },
  {
   "cell_type": "code",
   "execution_count": 1,
   "id": "41511a23-ee07-4db2-b47e-281d62443014",
   "metadata": {},
   "outputs": [],
   "source": [
    "import os\n",
    "import langchain \n",
    "from langchain.llms import OpenAI"
   ]
  },
  {
   "cell_type": "code",
   "execution_count": 2,
   "id": "dabebb40-8458-4dcb-9000-d9ff129defdb",
   "metadata": {},
   "outputs": [
    {
     "name": "stderr",
     "output_type": "stream",
     "text": [
      "/Users/pedrorodriguezdeledesmajimenez/anaconda3/envs/genaienv/lib/python3.11/site-packages/langchain_core/_api/deprecation.py:117: LangChainDeprecationWarning: The class `langchain_community.llms.openai.OpenAI` was deprecated in langchain-community 0.0.10 and will be removed in 0.2.0. An updated version of the class exists in the langchain-openai package and should be used instead. To use it run `pip install -U langchain-openai` and import as `from langchain_openai import OpenAI`.\n",
      "  warn_deprecated(\n"
     ]
    }
   ],
   "source": [
    "client=OpenAI(openai_api_key=os.environ.get(\"OPENAI_API_KEY\"))"
   ]
  },
  {
   "cell_type": "markdown",
   "id": "791ae299-fa1a-409f-a547-abd72eebd3db",
   "metadata": {},
   "source": [
    "---------"
   ]
  },
  {
   "cell_type": "code",
   "execution_count": 3,
   "id": "9a20901a-2bdf-443e-a923-21b0c8b1f141",
   "metadata": {},
   "outputs": [],
   "source": [
    "prompt=\"can you tell me total number of countries in asia? can you give me top 10 contry name?\""
   ]
  },
  {
   "cell_type": "code",
   "execution_count": 4,
   "id": "0f1a897a-ca05-43a1-b0f3-e2daa6cf6a1f",
   "metadata": {},
   "outputs": [
    {
     "name": "stdout",
     "output_type": "stream",
     "text": [
      "There are 48 countries in Asia.\n",
      "\n",
      "The top 10 countries in Asia are:\n",
      "\n",
      "1. China\n",
      "2. India\n",
      "3. Indonesia\n",
      "4. Pakistan\n",
      "5. Bangladesh\n",
      "6. Japan\n",
      "7. Philippines\n",
      "8. Vietnam\n",
      "9. Iran\n",
      "10. Turkey\n"
     ]
    }
   ],
   "source": [
    "print(client.invoke(prompt).strip())"
   ]
  },
  {
   "cell_type": "markdown",
   "id": "29f6086b-f14d-4a71-830e-02342fb9d539",
   "metadata": {},
   "source": [
    "---------"
   ]
  },
  {
   "cell_type": "markdown",
   "id": "5e0270da-522d-4f33-a896-a16fcc479493",
   "metadata": {},
   "source": [
    "# Prompt Templates:"
   ]
  },
  {
   "cell_type": "code",
   "execution_count": 5,
   "id": "ebaf2174-d967-4c68-8a49-813e1b2c881e",
   "metadata": {},
   "outputs": [],
   "source": [
    "from langchain.prompts import PromptTemplate"
   ]
  },
  {
   "cell_type": "code",
   "execution_count": 6,
   "id": "2e51151f-2cd9-4dc3-bff6-c408e1638f44",
   "metadata": {},
   "outputs": [],
   "source": [
    "prompt_template_name=PromptTemplate(\n",
    "    input_variables=[\"country\"],\n",
    "    template=\"can you tell me the capital of {country}?\"\n",
    ")"
   ]
  },
  {
   "cell_type": "code",
   "execution_count": 7,
   "id": "204efc8d-2639-4b6d-a757-ae3380ef953e",
   "metadata": {},
   "outputs": [],
   "source": [
    "propmt1=prompt_template_name.format(country=\"india\")"
   ]
  },
  {
   "cell_type": "code",
   "execution_count": 8,
   "id": "b481b606-747e-4865-975d-5114b15448f0",
   "metadata": {},
   "outputs": [
    {
     "data": {
      "text/plain": [
       "'The capital of India is New Delhi.'"
      ]
     },
     "execution_count": 8,
     "metadata": {},
     "output_type": "execute_result"
    }
   ],
   "source": [
    "client.invoke(propmt1).strip()"
   ]
  },
  {
   "cell_type": "markdown",
   "id": "33d71de1-13f7-4a7e-b349-e24f6e827773",
   "metadata": {},
   "source": [
    "---------"
   ]
  },
  {
   "cell_type": "markdown",
   "id": "198788f6-d031-4a7c-add5-2137b76d8dc7",
   "metadata": {},
   "source": [
    "# Agent:"
   ]
  },
  {
   "cell_type": "code",
   "execution_count": 9,
   "id": "58aba167-79b5-4c7d-a968-6945bebf2f3c",
   "metadata": {},
   "outputs": [],
   "source": [
    "prompt4=\"can you tell me who won the recent futball world cup?\""
   ]
  },
  {
   "cell_type": "code",
   "execution_count": 10,
   "id": "46bc8d43-55bf-414f-8957-a3f564babdd4",
   "metadata": {},
   "outputs": [
    {
     "data": {
      "text/plain": [
       "'The recent FIFA World Cup was held in 2018 and was won by France.'"
      ]
     },
     "execution_count": 10,
     "metadata": {},
     "output_type": "execute_result"
    }
   ],
   "source": [
    "client.invoke(prompt4).strip() # Not updated"
   ]
  },
  {
   "cell_type": "markdown",
   "id": "a17b3de2-4b03-41ed-a2d2-69fc325b7bdd",
   "metadata": {},
   "source": [
    "### Note: \n",
    "for extracting a real time info i am going to user serp api now by using this serp api i wll call google-search-engine and i will extract the information in a real time"
   ]
  },
  {
   "cell_type": "code",
   "execution_count": 11,
   "id": "8418aa87-892e-4f81-8c01-5f305c9fce04",
   "metadata": {},
   "outputs": [],
   "source": [
    "!pip install -q google-search-results"
   ]
  },
  {
   "cell_type": "code",
   "execution_count": 12,
   "id": "e7828116-7fb2-4908-9715-daf859c62876",
   "metadata": {},
   "outputs": [],
   "source": [
    "serpapi_key=os.environ.get(\"SERAPI_KEY\")"
   ]
  },
  {
   "cell_type": "code",
   "execution_count": 13,
   "id": "cd5a3bd4-f36c-4885-ba78-ddc9229e7a0d",
   "metadata": {},
   "outputs": [],
   "source": [
    "from langchain.agents import AgentType\n",
    "from langchain.agents import load_tools \n",
    "from langchain.agents import initialize_agent\n",
    "from langchain.llms import OpenAI"
   ]
  },
  {
   "cell_type": "code",
   "execution_count": 14,
   "id": "3982d221-3097-4711-9322-0cd069f80aae",
   "metadata": {},
   "outputs": [],
   "source": [
    "client=OpenAI(openai_api_key=os.environ.get(\"OPENAI_API_KEY\"))"
   ]
  },
  {
   "cell_type": "code",
   "execution_count": 15,
   "id": "6ec20bf2-2ac6-45ff-b764-806cf0dc30a6",
   "metadata": {},
   "outputs": [],
   "source": [
    "# We are creating an object of class load_tools\n",
    "# https://github.com/langchain-ai/langchain/blob/master/libs/langchain/langchain/agents/load_tools.py\n",
    "\n",
    "tool=load_tools(tool_names=[\"serpapi\"],\n",
    "                serpapi_api_key=serpapi_key,\n",
    "                llm=client)"
   ]
  },
  {
   "cell_type": "code",
   "execution_count": 16,
   "id": "71980e71-6753-4eab-8fa5-cbf9d1bef058",
   "metadata": {},
   "outputs": [
    {
     "name": "stderr",
     "output_type": "stream",
     "text": [
      "/Users/pedrorodriguezdeledesmajimenez/anaconda3/envs/genaienv/lib/python3.11/site-packages/langchain_core/_api/deprecation.py:117: LangChainDeprecationWarning: The function `initialize_agent` was deprecated in LangChain 0.1.0 and will be removed in 0.2.0. Use Use new agent constructor methods like create_react_agent, create_json_agent, create_structured_chat_agent, etc. instead.\n",
      "  warn_deprecated(\n"
     ]
    }
   ],
   "source": [
    "# We create the class agent\n",
    "# https://github.com/langchain-ai/langchain/blob/master/libs/langchain/langchain/agents/agent_types.py\n",
    "\n",
    "agent=initialize_agent(tool,\n",
    "                       client,\n",
    "                       agent=AgentType.ZERO_SHOT_REACT_DESCRIPTION,\n",
    "                       verbose=True)"
   ]
  },
  {
   "cell_type": "code",
   "execution_count": 17,
   "id": "c08e8640-312a-4c08-800a-8ed3a606b152",
   "metadata": {},
   "outputs": [
    {
     "name": "stdout",
     "output_type": "stream",
     "text": [
      "\n",
      "\n",
      "\u001b[1m> Entering new AgentExecutor chain...\u001b[0m\n",
      "\u001b[32;1m\u001b[1;3m I should always think about what to do\n",
      "Action: Search\n",
      "Action Input: \"recent rugby world cup winner\"\u001b[0m\n",
      "Observation: \u001b[36;1m\u001b[1;3m{'title': 'Rugby World Cup', 'thumbnail': 'https://serpapi.com/searches/66a6c192d737d784e0755df0/images/b124521129e8b322db8ac821f2dfcd68db7147c685489249f4436e98e10e803b.png', 'games': [{'tournament': 'Rugby World Cup', 'arena': 'Stade de France', 'arena_kgmid': '/m/038xg3', 'status': 'FT', 'date': 'Oct 28, 23', 'video_highlights': {'link': 'https://info.rugbypass.tv/video/New-Zealand-v-South-Africa?lang=en&utm_source=googleoneboxen&utm_medium=video&utm_campaign=highlights&utm_language=en', 'thumbnail': 'https://serpapi.com/searches/66a6c192d737d784e0755df0/images/b124521129e8b3225b294fb61786fc2d9be2d76d6a2049c1ec4cdabba6afe047537e6a8821a37cdc1937452f841586067879bdf6f50991ce.jpeg', 'duration': '3:12'}, 'teams': [{'name': 'New Zealand', 'score': '11', 'kgmid': '/m/0148q6', 'thumbnail': 'https://serpapi.com/searches/66a6c192d737d784e0755df0/images/b124521129e8b3225b294fb61786fc2d5bc973e0d9a4e8237ea7fa114e6a9dca61983a35cf0f38f7ce7257e4ec91a742.png'}, {'name': 'South Africa', 'score': '12', 'kgmid': '/m/0210tk', 'thumbnail': 'https://serpapi.com/searches/66a6c192d737d784e0755df0/images/b124521129e8b3225b294fb61786fc2d5bc973e0d9a4e823bc57a167e4764c0ff5a7c4e172f1799e7e24fce3e3397b95.png'}]}, {'tournament': 'Rugby World Cup', 'arena': 'Stade de France', 'arena_kgmid': '/m/038xg3', 'status': 'FT', 'date': 'Oct 27, 23', 'video_highlights': {'link': 'https://info.rugbypass.tv/video/Argentina-v-England?lang=en&utm_source=googleoneboxen&utm_medium=video&utm_campaign=highlights&utm_language=en', 'thumbnail': 'https://serpapi.com/searches/66a6c192d737d784e0755df0/images/b124521129e8b3225b294fb61786fc2d83257baee789b012e1fd006aa05a631f1704461edd1e4efa4808e3f7fac2482244b957108ac0872b.jpeg', 'duration': '3:13'}, 'teams': [{'name': 'Argentina', 'score': '23', 'kgmid': '/m/03bc0f', 'thumbnail': 'https://serpapi.com/searches/66a6c192d737d784e0755df0/images/b124521129e8b3225b294fb61786fc2db41fe1276c52472a99832eef4fcf08b4de3ffeef1d49506e02340f4e66e1cd98.png'}, {'name': 'England', 'score': '26', 'kgmid': '/m/0333v_', 'thumbnail': 'https://serpapi.com/searches/66a6c192d737d784e0755df0/images/b124521129e8b3225b294fb61786fc2db41fe1276c52472a19a694859f94f18da4eb4125aa1a8058ce9938c7c461b91b.png'}]}, {'tournament': 'Rugby World Cup', 'arena': 'Stade de France', 'arena_kgmid': '/m/038xg3', 'status': 'FT', 'date': 'Oct 21, 23', 'video_highlights': {'link': 'https://info.rugbypass.tv/video/England-v-South-Africa?lang=en&utm_source=googleoneboxen&utm_medium=video&utm_campaign=highlights&utm_language=en', 'thumbnail': 'https://serpapi.com/searches/66a6c192d737d784e0755df0/images/b124521129e8b3225b294fb61786fc2d38355923df46716dfcc716029ee55671b625fa721ada9486db9c13d2c3ddff55a06645edc80bba06.jpeg', 'duration': '3:5'}, 'teams': [{'name': 'England', 'score': '15', 'kgmid': '/m/0333v_', 'thumbnail': 'https://serpapi.com/searches/66a6c192d737d784e0755df0/images/b124521129e8b3225b294fb61786fc2d121c60c6ced28efb24c57d286ed451164fd71536bab133ccbcc066160de3932b.png'}, {'name': 'South Africa', 'score': '16', 'kgmid': '/m/0210tk', 'thumbnail': 'https://serpapi.com/searches/66a6c192d737d784e0755df0/images/b124521129e8b3225b294fb61786fc2d121c60c6ced28efbae1310c4023e41bb775b9e532f1fe3fccdcae5f5e2d05e6b.png'}]}, {'tournament': 'Rugby World Cup', 'arena': 'Stade de France', 'arena_kgmid': '/m/038xg3', 'status': 'FT', 'date': 'Oct 20, 23', 'video_highlights': {'link': 'https://info.rugbypass.tv/video/Argentina-v-New-Zealand?lang=en&utm_source=googleoneboxen&utm_medium=video&utm_campaign=highlights&utm_language=en', 'thumbnail': 'https://serpapi.com/searches/66a6c192d737d784e0755df0/images/b124521129e8b3225b294fb61786fc2d283cc30d44b3c18d4c1f4ea397250b5460507e3f27a81b51ce175ec69cdba508d8e221ee668e8dee.jpeg', 'duration': '3:33'}, 'teams': [{'name': 'Argentina', 'score': '6', 'kgmid': '/m/03bc0f', 'thumbnail': 'https://serpapi.com/searches/66a6c192d737d784e0755df0/images/b124521129e8b3225b294fb61786fc2dd9175db67831fd9d7a5317119efd09efae7180d454a3c906ef969bab3917bf76.png'}, {'name': 'New Zealand', 'score': '44', 'kgmid': '/m/0148q6', 'thumbnail': 'https://serpapi.com/searches/66a6c192d737d784e0755df0/images/b124521129e8b3225b294fb61786fc2dd9175db67831fd9dc65629c0e47bd9e58ecf7a6184f547574f1ff676d312b7b5.png'}]}, {'tournament': 'Rugby World Cup', 'arena': 'Stade de France', 'arena_kgmid': '/m/038xg3', 'status': 'FT', 'date': 'Oct 15, 23', 'video_highlights': {'link': 'https://www.youtube.com/watch?v=Ocs_HwciLac&feature=onebox', 'thumbnail': 'https://serpapi.com/searches/66a6c192d737d784e0755df0/images/b124521129e8b3225b294fb61786fc2df821e0b0a126f6afd94c6a92c4c14ee778f7b29f59cd763198dd9f2c45fb7948f20367a9935cfb3e.jpeg', 'duration': '13:21'}, 'teams': [{'name': 'France', 'score': '28', 'kgmid': '/m/03t49_', 'thumbnail': 'https://serpapi.com/searches/66a6c192d737d784e0755df0/images/b124521129e8b3225b294fb61786fc2dbc9c831ed8360ae0684f82275d0a4469978f6ab51ada5ae02ea06d9093b93a7e.png'}, {'name': 'South Africa', 'score': '29', 'kgmid': '/m/0210tk', 'thumbnail': 'https://serpapi.com/searches/66a6c192d737d784e0755df0/images/b124521129e8b3225b294fb61786fc2dbc9c831ed8360ae0bf75380af38ed9eca95a4692ad46b0c85433b7fed521f00f.png'}]}, {'tournament': 'Rugby World Cup', 'arena': 'Stade Vélodrome', 'arena_kgmid': '/m/03rbcq', 'status': 'FT', 'date': 'Oct 15, 23', 'video_highlights': {'link': 'https://www.youtube.com/watch?v=OGtdLvEi-As&feature=onebox', 'thumbnail': 'https://serpapi.com/searches/66a6c192d737d784e0755df0/images/b124521129e8b3225b294fb61786fc2d2047f05f9bdc9b1bddb29f88862513e422b73480e82931afaa1c1a562048b2f414dfecee12385daa.jpeg', 'duration': '15:5'}, 'teams': [{'name': 'England', 'score': '30', 'kgmid': '/m/0333v_', 'thumbnail': 'https://serpapi.com/searches/66a6c192d737d784e0755df0/images/b124521129e8b3225b294fb61786fc2d80ca4db2404ae64accf9da12ecb938f735c4d916ad090bc6b7801fab0fa00996.png'}, {'name': 'Fiji', 'score': '24', 'kgmid': '/m/043q3n', 'thumbnail': 'https://serpapi.com/searches/66a6c192d737d784e0755df0/images/b124521129e8b3225b294fb61786fc2d80ca4db2404ae64a2b82727128d957ed5807ab0e5bdef2ca516d00be4ac4d24c.png'}]}]}\u001b[0m\n",
      "Thought:\u001b[32;1m\u001b[1;3m I now know the final answer\n",
      "Final Answer: The most recent Rugby World Cup was won by South Africa. \u001b[0m\n",
      "\n",
      "\u001b[1m> Finished chain.\u001b[0m\n"
     ]
    },
    {
     "data": {
      "text/plain": [
       "{'input': 'can you tell me who won the most recent rugby world cup?',\n",
       " 'output': 'The most recent Rugby World Cup was won by South Africa.'}"
      ]
     },
     "execution_count": 17,
     "metadata": {},
     "output_type": "execute_result"
    }
   ],
   "source": [
    "agent.invoke(\"can you tell me who won the most recent rugby world cup?\", handle_parsing_errors=True)"
   ]
  },
  {
   "cell_type": "code",
   "execution_count": 18,
   "id": "fbb7a46e-addc-4200-a33b-dfea5619d50d",
   "metadata": {},
   "outputs": [],
   "source": [
    "!pip install -q wikipedia"
   ]
  },
  {
   "cell_type": "code",
   "execution_count": 19,
   "id": "ef12fc56-6765-4fcd-9b19-b7c583796dc3",
   "metadata": {},
   "outputs": [
    {
     "name": "stdout",
     "output_type": "stream",
     "text": [
      "\n",
      "\n",
      "Francisco Pizarro (c. 1471-1541) was a Spanish conquistador who is best known for his conquest of the Inca Empire in South America. Born in Trujillo, Spain, Pizarro grew up in poverty and received little education. In 1502, he joined an expedition to the New World led by Christopher Columbus, but returned to Spain after only a few years.\n",
      "\n",
      "In 1524, Pizarro and his brothers embarked on their own expedition to South America, landing in Panama. They eventually reached the Inca Empire, a powerful and wealthy civilization in present-day Peru. Pizarro saw an opportunity for conquest and formed alliances with local tribes who were enemies of the Inca.\n",
      "\n",
      "In 1532, Pizarro and his army of about 180 men, along with their native allies, marched towards the Inca capital of Cusco. The Inca emperor, Atahualpa, believed the Spaniards to be gods and welcomed them with gifts and feasts. However, Pizarro saw this as a threat and ambushed Atahualpa's army, capturing him and his followers.\n",
      "\n",
      "With Atahualpa as his prisoner, Pizarro demanded a huge ransom of gold and silver\n"
     ]
    }
   ],
   "source": [
    "client=OpenAI(openai_api_key=os.environ.get(\"OPENAI_API_KEY\"))\n",
    "print(client.invoke(\"Tell me about Pizarro\"))"
   ]
  },
  {
   "cell_type": "code",
   "execution_count": 20,
   "id": "d098bd0a-7d1b-49f6-a674-1fe7887dff33",
   "metadata": {},
   "outputs": [],
   "source": [
    "tool=load_tools(tool_names=[\"wikipedia\"],\n",
    "                llm=client)"
   ]
  },
  {
   "cell_type": "code",
   "execution_count": 21,
   "id": "f78d4338-edb2-4548-a691-4938f8132b85",
   "metadata": {},
   "outputs": [],
   "source": [
    "agent=initialize_agent(tool,\n",
    "                       client,agent=AgentType.ZERO_SHOT_REACT_DESCRIPTION,\n",
    "                       verbose=True)"
   ]
  },
  {
   "cell_type": "code",
   "execution_count": 22,
   "id": "f1cb396b-b8a4-48f0-9e22-d3ecbdeb9317",
   "metadata": {},
   "outputs": [
    {
     "name": "stdout",
     "output_type": "stream",
     "text": [
      "\n",
      "\n",
      "\u001b[1m> Entering new AgentExecutor chain...\u001b[0m\n",
      "\u001b[32;1m\u001b[1;3m Pizzaro is likely a person's name, so I should use wikipedia to find out more about them.\n",
      "Action: wikipedia\n",
      "Action Input: Pizzaro\u001b[0m"
     ]
    },
    {
     "name": "stderr",
     "output_type": "stream",
     "text": [
      "/Users/pedrorodriguezdeledesmajimenez/anaconda3/envs/genaienv/lib/python3.11/site-packages/wikipedia/wikipedia.py:389: GuessedAtParserWarning: No parser was explicitly specified, so I'm using the best available HTML parser for this system (\"html.parser\"). This usually isn't a problem, but if you run this code on another system, or in a different virtual environment, it may use a different parser and behave differently.\n",
      "\n",
      "The code that caused this warning is on line 389 of the file /Users/pedrorodriguezdeledesmajimenez/anaconda3/envs/genaienv/lib/python3.11/site-packages/wikipedia/wikipedia.py. To get rid of this warning, pass the additional argument 'features=\"html.parser\"' to the BeautifulSoup constructor.\n",
      "\n",
      "  lis = BeautifulSoup(html).find_all('li')\n"
     ]
    },
    {
     "name": "stdout",
     "output_type": "stream",
     "text": [
      "\n",
      "Observation: \u001b[36;1m\u001b[1;3mPage: Francisco Pizarro\n",
      "Summary: Francisco Pizarro, Marquess of the Atabillos (; Spanish: [fɾanˈθisko piˈθaro]; c. 16 March 1478 – 26 June 1541) was a Spanish conquistador, best known for his expeditions that led to the Spanish conquest of the Inca Empire.\n",
      "Born in Trujillo, Spain to a poor family, Pizarro chose to pursue fortune and adventure in the New World. He went to the Gulf of Urabá, and accompanied Vasco Núñez de Balboa in his crossing of the Isthmus of Panama, where they became the first Europeans to see the Pacific Ocean from the Americas. He served as mayor of the newly founded Panama City for a few years and undertook two failed expeditions to Peru. In 1529, Pizarro obtained permission from the Spanish crown to lead a campaign to conquer Peru and went on his third, and successful, expedition.\n",
      "When local people who lived along the coast resisted this invasion, Pizarro moved inland and founded the first Spanish settlement in Peru, San Miguel de Piura. After a series of manoeuvres, Pizarro captured the Incan emperor Atahualpa at the Battle of Cajamarca in November 1532. A ransom for the emperor's release was demanded and Atahualpa filled a room with gold, but Pizarro charged him with various crimes and executed him in July 1533. The same year, Pizarro entered the Inca capital of Cuzco and completed his conquest of Peru. In January 1535, he founded the city of Lima. Pizarro eventually fell victim to political power struggles and was assassinated in 1541.\n",
      "\n",
      "Page: Claudio Pizarro\n",
      "Summary: Claudio Miguel Pizarro Bosio (Latin American Spanish: [ˈklawðjo piˈsaro]; born 3 October 1978) is a Peruvian former professional footballer who played as a striker. He is currently serving as club ambassador for Bayern Munich. He was captain of Peru's national football team, being its fifth highest scorer. He is the highest scorer and most successful Latin American football player in the history of German football. He is the all-time top scorer of SV Werder Bremen, the ninth top scorer in the history of Bayern Munich and the sixth top scorer in the history of the Bundesliga and its second top scorer in the 21st century. He is also among the 20 top scorers in the history of UEFA club competitions and is the seventh highest South American scorer in European football history.\n",
      "His professional debut came in 1996, with Deportivo Pesquero. In 1998, he joined Alianza Lima, where he won a Peruvian Primera División, being highlighted as the best player of the season. In 1999, he was signed by Werder Bremen from the Bundesliga. Just one year later, he was chosen as the newcomer player of the championship and was included in the ideal team of the 2000–01 season. In 2001, he signed for Bayern Munich and the following seasons he won one Intercontinental Cup, 2 Bundesligas, 4 DFB-Pokale (German Cups), 2 DFL-Ligapokale (German League Cups) and the DFL-Supercup (German Super Cup). In addition, he was the top scorer in the DFB-Pokal in the 2004–05 and 2005–06 editions.\n",
      "In 2007, he signed for Chelsea F.C. scoring on his debut and achieving runner-up in the Premier League at the end of the season. In 2009, he returned to Bremen, where he was champion of the 2008–09 DFB-Pokal and the unofficial 2009 German Supercup, in addition to becoming top scorer in the 2009–10 UEFA Europa League. In 2012, he was hired again by Bayern Munich, winning the UEFA Champions League, the Club World Cup, the European Super Cup, the DFL-Supercup, three Bundesligas and two DFB-Pokale, thus becoming the foreign player with most titles in the history of Bayern Munich, a total of 18. In mid-2015, he returned to Werder Bremen. In 2017, he was hired by the 1. FC Köln, from which he separated a year later to return to Werder Bremen.\n",
      "Pizarro is the Peruvian football player with the most goals scored and games played in Europe and in German football. He is the second highest foreign scorer and sixth all-time historic scorer in the Bundesliga (197 goals). He is also the Latin American foot\u001b[0m\n",
      "Thought:\u001b[32;1m\u001b[1;3m This is not the person I was looking for. I should try searching for \"Francisco Pizarro\" instead.\n",
      "Action: wikipedia\n",
      "Action Input: Francisco Pizarro\u001b[0m"
     ]
    },
    {
     "name": "stderr",
     "output_type": "stream",
     "text": [
      "/Users/pedrorodriguezdeledesmajimenez/anaconda3/envs/genaienv/lib/python3.11/site-packages/wikipedia/wikipedia.py:389: GuessedAtParserWarning: No parser was explicitly specified, so I'm using the best available HTML parser for this system (\"html.parser\"). This usually isn't a problem, but if you run this code on another system, or in a different virtual environment, it may use a different parser and behave differently.\n",
      "\n",
      "The code that caused this warning is on line 389 of the file /Users/pedrorodriguezdeledesmajimenez/anaconda3/envs/genaienv/lib/python3.11/site-packages/wikipedia/wikipedia.py. To get rid of this warning, pass the additional argument 'features=\"html.parser\"' to the BeautifulSoup constructor.\n",
      "\n",
      "  lis = BeautifulSoup(html).find_all('li')\n"
     ]
    },
    {
     "name": "stdout",
     "output_type": "stream",
     "text": [
      "\n",
      "Observation: \u001b[36;1m\u001b[1;3mPage: Francisco Pizarro\n",
      "Summary: Francisco Pizarro, Marquess of the Atabillos (; Spanish: [fɾanˈθisko piˈθaro]; c. 16 March 1478 – 26 June 1541) was a Spanish conquistador, best known for his expeditions that led to the Spanish conquest of the Inca Empire.\n",
      "Born in Trujillo, Spain to a poor family, Pizarro chose to pursue fortune and adventure in the New World. He went to the Gulf of Urabá, and accompanied Vasco Núñez de Balboa in his crossing of the Isthmus of Panama, where they became the first Europeans to see the Pacific Ocean from the Americas. He served as mayor of the newly founded Panama City for a few years and undertook two failed expeditions to Peru. In 1529, Pizarro obtained permission from the Spanish crown to lead a campaign to conquer Peru and went on his third, and successful, expedition.\n",
      "When local people who lived along the coast resisted this invasion, Pizarro moved inland and founded the first Spanish settlement in Peru, San Miguel de Piura. After a series of manoeuvres, Pizarro captured the Incan emperor Atahualpa at the Battle of Cajamarca in November 1532. A ransom for the emperor's release was demanded and Atahualpa filled a room with gold, but Pizarro charged him with various crimes and executed him in July 1533. The same year, Pizarro entered the Inca capital of Cuzco and completed his conquest of Peru. In January 1535, he founded the city of Lima. Pizarro eventually fell victim to political power struggles and was assassinated in 1541.\n",
      "\n",
      "Page: Gonzalo Pizarro\n",
      "Summary: Gonzalo Pizarro y Alonso ([gonˈθalo piˈθaro]; 1510 – 10 April 1548) was a Spanish conquistador. He was the younger paternal half brother of Francisco Pizarro, who led the Spanish conquest of the Inca Empire. Pizarro was the illegitimate son of Gonzalo Pizarro y Rodríguez de Aguilar (1446–1522), who, as an infantry colonel, served under Gonzalo Fernández de Córdoba during the Italian Wars. He was also the younger paternal half brother of Hernándo Pizarro y de Vargas and the older paternal full brother of Juan Pizarro y Alonso.\u001b[0m\n",
      "Thought:\u001b[32;1m\u001b[1;3m This is still not the person I was looking for. I should try searching for \"Francisco Pizarro Conquistador\" instead.\n",
      "Action: wikipedia\n",
      "Action Input: Francisco Pizarro Conquistador\u001b[0m\n",
      "Observation: \u001b[36;1m\u001b[1;3mPage: Juan Pizarro (conquistador)\n",
      "Summary: Juan Pizarro y Alonso (Spanish: [xwam piˈθaro]; born c. 1511 in Trujillo; died July 1536) was a Spanish conquistador who accompanied his brothers Francisco, Gonzalo and Hernando Pizarro for the conquest of Peru in 1532.: 136 \n",
      "\n",
      "Page: Gonzalo Pizarro\n",
      "Summary: Gonzalo Pizarro y Alonso ([gonˈθalo piˈθaro]; 1510 – 10 April 1548) was a Spanish conquistador. He was the younger paternal half brother of Francisco Pizarro, who led the Spanish conquest of the Inca Empire. Pizarro was the illegitimate son of Gonzalo Pizarro y Rodríguez de Aguilar (1446–1522), who, as an infantry colonel, served under Gonzalo Fernández de Córdoba during the Italian Wars. He was also the younger paternal half brother of Hernándo Pizarro y de Vargas and the older paternal full brother of Juan Pizarro y Alonso.\n",
      "\n",
      "Page: Francisco Pizarro\n",
      "Summary: Francisco Pizarro, Marquess of the Atabillos (; Spanish: [fɾanˈθisko piˈθaro]; c. 16 March 1478 – 26 June 1541) was a Spanish conquistador, best known for his expeditions that led to the Spanish conquest of the Inca Empire.\n",
      "Born in Trujillo, Spain to a poor family, Pizarro chose to pursue fortune and adventure in the New World. He went to the Gulf of Urabá, and accompanied Vasco Núñez de Balboa in his crossing of the Isthmus of Panama, where they became the first Europeans to see the Pacific Ocean from the Americas. He served as mayor of the newly founded Panama City for a few years and undertook two failed expeditions to Peru. In 1529, Pizarro obtained permission from the Spanish crown to lead a campaign to conquer Peru and went on his third, and successful, expedition.\n",
      "When local people who lived along the coast resisted this invasion, Pizarro moved inland and founded the first Spanish settlement in Peru, San Miguel de Piura. After a series of manoeuvres, Pizarro captured the Incan emperor Atahualpa at the Battle of Cajamarca in November 1532. A ransom for the emperor's release was demanded and Atahualpa filled a room with gold, but Pizarro charged him with various crimes and executed him in July 1533. The same year, Pizarro entered the Inca capital of Cuzco and completed his conquest of Peru. In January 1535, he founded the city of Lima. Pizarro eventually fell victim to political power struggles and was assassinated in 1541.\u001b[0m\n",
      "Thought:\u001b[32;1m\u001b[1;3m This is the correct person. I now know the final answer.\n",
      "Final Answer: Francisco Pizarro was a Spanish conquistador who led expeditions that resulted in the Spanish conquest of the Inca Empire. He was born in Trujillo, Spain to a poor family and went on to found the first Spanish settlement in Peru. Pizarro eventually fell victim to political power struggles and was assassinated in 1541.\u001b[0m\n",
      "\n",
      "\u001b[1m> Finished chain.\u001b[0m\n"
     ]
    },
    {
     "data": {
      "text/plain": [
       "{'input': 'Tell me about pizzaro in one paragraph',\n",
       " 'output': 'Francisco Pizarro was a Spanish conquistador who led expeditions that resulted in the Spanish conquest of the Inca Empire. He was born in Trujillo, Spain to a poor family and went on to found the first Spanish settlement in Peru. Pizarro eventually fell victim to political power struggles and was assassinated in 1541.'}"
      ]
     },
     "execution_count": 22,
     "metadata": {},
     "output_type": "execute_result"
    }
   ],
   "source": [
    "agent.invoke(\"Tell me about pizzaro in one paragraph\", handle_parsing_errors=True)"
   ]
  },
  {
   "cell_type": "markdown",
   "id": "0908089b-e354-48d3-9336-01e7076ff97f",
   "metadata": {},
   "source": [
    "---------"
   ]
  },
  {
   "cell_type": "markdown",
   "id": "cd667bb9-90e8-4063-8ea7-f9c703360525",
   "metadata": {},
   "source": [
    "# Chain\n",
    "Central to LangChain is a vital component known as LangChain Chains, forming the core connection among one or several large language models (LLMs). In certain sophisticated applications, it becomes necessary to chain LLMs together, either with each other or with other elements."
   ]
  },
  {
   "cell_type": "code",
   "execution_count": 23,
   "id": "7fcc3616-453e-4532-a224-ca5ece65dd48",
   "metadata": {},
   "outputs": [],
   "source": [
    "prompt_template_name=PromptTemplate(\n",
    "    input_variables=[\"country\"],\n",
    "    template=\"can you tell me the capital of {country}?\"\n",
    ")"
   ]
  },
  {
   "cell_type": "code",
   "execution_count": 24,
   "id": "704451fe-5fc9-4ea1-a978-30a4352944ac",
   "metadata": {},
   "outputs": [],
   "source": [
    "prompt=PromptTemplate.from_template(\"what is a good name for a company that makes {product}\")"
   ]
  },
  {
   "cell_type": "code",
   "execution_count": 25,
   "id": "f4943c06-8a82-4c12-934f-d6057bb98e1c",
   "metadata": {},
   "outputs": [],
   "source": [
    "from langchain.chains import LLMChain\n",
    "\n",
    "chain=LLMChain(llm=client,\n",
    "               prompt=prompt)"
   ]
  },
  {
   "cell_type": "code",
   "execution_count": 26,
   "id": "aabda803-0bd8-4d96-8682-46312b70dc69",
   "metadata": {},
   "outputs": [
    {
     "name": "stdout",
     "output_type": "stream",
     "text": [
      "{'product': 'Wine', 'text': '\\n\\n1. VinoVita\\n2. Grapevine Cellars\\n3. Noble Nectar\\n4. Vintage Vines\\n5. Bacchus Beverages\\n6. Winedreams\\n7. Chateau Cuvée\\n8. Terra Terroir\\n9. Vinotopia\\n10. Cask & Co.\\n11. Sip & Savor\\n12. Cork & Barrel\\n13. The Wine Co.\\n14. Vinoteca\\n15. Heritage Wines\\n16. The Winery Collective\\n17. Harvest Hill Wines\\n18. Reserve Estate\\n19. Tannin Tales\\n20. Cellar Select.'}\n"
     ]
    }
   ],
   "source": [
    "print(chain.invoke(\"Wine\"))"
   ]
  },
  {
   "cell_type": "markdown",
   "id": "e5dabb7d-4b50-4a60-81c7-334f90b52716",
   "metadata": {},
   "source": [
    "### Other"
   ]
  },
  {
   "cell_type": "code",
   "execution_count": 27,
   "id": "a5b2eb3c-637a-4968-86f8-54bd61d6d93f",
   "metadata": {},
   "outputs": [
    {
     "data": {
      "text/plain": [
       "PromptTemplate(input_variables=['cuisine'], template='i want to open a restaurent for {cuisine} food, suggest a fency name for this')"
      ]
     },
     "execution_count": 27,
     "metadata": {},
     "output_type": "execute_result"
    }
   ],
   "source": [
    "prompt_template=PromptTemplate(\n",
    "    input_variables=['cuisine'],\n",
    "    template=\"i want to open a restaurent for {cuisine} food, suggest a fency name for this\"\n",
    ")\n",
    "prompt_template"
   ]
  },
  {
   "cell_type": "code",
   "execution_count": 28,
   "id": "86021a7c-31c3-43f2-9a7d-f37ac2e715c2",
   "metadata": {},
   "outputs": [],
   "source": [
    "chain=LLMChain(llm=client, \n",
    "               prompt=prompt_template)"
   ]
  },
  {
   "cell_type": "code",
   "execution_count": 29,
   "id": "0cab6418-26b4-4c28-ac3e-35a1a12e9276",
   "metadata": {},
   "outputs": [
    {
     "name": "stderr",
     "output_type": "stream",
     "text": [
      "/Users/pedrorodriguezdeledesmajimenez/anaconda3/envs/genaienv/lib/python3.11/site-packages/langchain_core/_api/deprecation.py:117: LangChainDeprecationWarning: The function `run` was deprecated in LangChain 0.1.0 and will be removed in 0.2.0. Use invoke instead.\n",
      "  warn_deprecated(\n"
     ]
    },
    {
     "name": "stdout",
     "output_type": "stream",
     "text": [
      "\n",
      "\n",
      "\"Maharaja's Palace: Fine Indian Cuisine\"\n"
     ]
    }
   ],
   "source": [
    "print(chain.run(\"indian\"))"
   ]
  },
  {
   "cell_type": "code",
   "execution_count": 30,
   "id": "5a23192a-d8f0-4fc4-86c4-9a250f813bb4",
   "metadata": {},
   "outputs": [],
   "source": [
    "chain=LLMChain(llm=client,\n",
    "               prompt=prompt_template,\n",
    "               verbose=True)"
   ]
  },
  {
   "cell_type": "code",
   "execution_count": 31,
   "id": "de62d3fe-17a8-4263-94a9-2294bc61dc49",
   "metadata": {},
   "outputs": [
    {
     "name": "stdout",
     "output_type": "stream",
     "text": [
      "\n",
      "\n",
      "\u001b[1m> Entering new LLMChain chain...\u001b[0m\n",
      "Prompt after formatting:\n",
      "\u001b[32;1m\u001b[1;3mi want to open a restaurent for indian food, suggest a fency name for this\u001b[0m\n",
      "\n",
      "\u001b[1m> Finished chain.\u001b[0m\n",
      "\n",
      "\n",
      "1. \"Spice Kingdom\"\n",
      "2. \"Taste of India\"\n",
      "3. \"Masala Bistro\"\n",
      "4. \"Flavors of the East\"\n",
      "5. \"Curry House\"\n",
      "6. \"Saffron Delights\"\n",
      "7. \"Naan Stop\"\n",
      "8. \"Chaat Corner\"\n",
      "9. \"Tandoori Terrace\"\n",
      "10. \"Namaste Kitchen\"\n"
     ]
    }
   ],
   "source": [
    "print(chain.run(\"indian\"))"
   ]
  },
  {
   "cell_type": "markdown",
   "id": "8b0a7578-9224-4dd3-a397-715cca1c456f",
   "metadata": {},
   "source": [
    "---------"
   ]
  },
  {
   "cell_type": "markdown",
   "id": "4d745c87-205d-48af-9c44-ce617c98183f",
   "metadata": {},
   "source": [
    "## SIMPLE SEQUENTIAL CHAIN: Lets do a more complex CHAIN: lets combine 2 chains"
   ]
  },
  {
   "cell_type": "code",
   "execution_count": 32,
   "id": "2a473898-2b97-4fa1-8050-3bf469ef6d13",
   "metadata": {},
   "outputs": [],
   "source": [
    "prompt_template_name=PromptTemplate(input_variables=[\"startup_name\"],\n",
    "                                    template=\"I want to start a startup for {startup-name} , suggest me a good name for this\"\n",
    "                                   )"
   ]
  },
  {
   "cell_type": "code",
   "execution_count": 33,
   "id": "53006ba8-7d11-4d15-abe1-37abce6d528f",
   "metadata": {},
   "outputs": [],
   "source": [
    "name_chain=LLMChain(llm=client,\n",
    "                    prompt=prompt_template_name,\n",
    "                     verbose=True)"
   ]
  },
  {
   "cell_type": "code",
   "execution_count": 34,
   "id": "515482b9-3c2a-4a08-a3ff-667fbc72feb1",
   "metadata": {},
   "outputs": [],
   "source": [
    "# Imagine we are using a second LLMS\n",
    "client2 = client"
   ]
  },
  {
   "cell_type": "code",
   "execution_count": 35,
   "id": "6e450fdb-65af-4c6e-8abd-28ec609df301",
   "metadata": {},
   "outputs": [],
   "source": [
    "prompt_template_items=PromptTemplate(input_variables=[\"name\"],\n",
    "                                     template=\"suggest some strategies for {name}\"\n",
    "                                    )"
   ]
  },
  {
   "cell_type": "code",
   "execution_count": 36,
   "id": "56a4515c-83d0-439c-a4bf-74613f68331b",
   "metadata": {},
   "outputs": [],
   "source": [
    "strategies_chain=LLMChain(llm=client2,\n",
    "                          prompt=prompt_template_items,\n",
    "                           verbose=True)"
   ]
  },
  {
   "cell_type": "code",
   "execution_count": 37,
   "id": "a21099ae-dc76-4978-a2ea-ab5021493cc5",
   "metadata": {},
   "outputs": [],
   "source": [
    "from langchain.chains import SimpleSequentialChain"
   ]
  },
  {
   "cell_type": "code",
   "execution_count": 38,
   "id": "21827bf3-811d-4be6-a1ff-d579b6143732",
   "metadata": {},
   "outputs": [],
   "source": [
    "chain=SimpleSequentialChain(chains=[name_chain,strategies_chain])"
   ]
  },
  {
   "cell_type": "code",
   "execution_count": 39,
   "id": "98dc0f04-aab5-4b06-bb97-9769bbf1263a",
   "metadata": {},
   "outputs": [
    {
     "name": "stdout",
     "output_type": "stream",
     "text": [
      "\n",
      "\n",
      "\u001b[1m> Entering new LLMChain chain...\u001b[0m\n",
      "Prompt after formatting:\n",
      "\u001b[32;1m\u001b[1;3mI want to start a startup for artifical intelligence , suggest me a good name for this\u001b[0m\n",
      "\n",
      "\u001b[1m> Finished chain.\u001b[0m\n",
      "\n",
      "\n",
      "\u001b[1m> Entering new LLMChain chain...\u001b[0m\n",
      "Prompt after formatting:\n",
      "\u001b[32;1m\u001b[1;3msuggest some strategies for \n",
      "\n",
      "\"IntelliGenius\" \u001b[0m\n",
      "\n",
      "\u001b[1m> Finished chain.\u001b[0m\n",
      "\n",
      "\n",
      "1. Utilize market research: Conduct thorough market research to understand the needs and preferences of your target audience. This will help you develop effective strategies to cater to their needs and stand out from competitors.\n",
      "\n",
      "2. Build a strong brand identity: Develop a unique brand identity that reflects the values and vision of your company. This will help create a strong brand image and differentiate your business from others.\n",
      "\n",
      "3. Focus on product development: Invest in research and development to continuously improve and innovate your products. This will help you stay ahead of the competition and satisfy the evolving needs of your customers.\n",
      "\n",
      "4. Leverage social media: Use social media platforms to increase brand awareness, engage with your audience, and promote your products. This will also help you gather feedback, improve your products, and build a loyal customer base.\n",
      "\n",
      "5. Offer exceptional customer service: Provide excellent customer service to build a strong relationship with your customers. This will help you retain customers and attract new ones through positive word-of-mouth.\n",
      "\n",
      "6. Collaborate with influencers: Partner with influencers in your industry to reach a wider audience and build credibility for your brand. Choose influencers that align with your brand's values and have a strong following in your target market.\n",
      "\n",
      "7. Utilize email marketing: Implement an email marketing strategy to keep\n"
     ]
    }
   ],
   "source": [
    "print(chain.run(\"artifical intelligence\"))"
   ]
  },
  {
   "cell_type": "markdown",
   "id": "5513e370-42ff-423f-8bd4-82b50a92012e",
   "metadata": {},
   "source": [
    "## SEQUENTIAL CHAIN"
   ]
  },
  {
   "cell_type": "code",
   "execution_count": 40,
   "id": "0edfda50-80e7-4b28-86d6-797d54c32bc3",
   "metadata": {},
   "outputs": [],
   "source": [
    "prompt_template_name=PromptTemplate(input_variables=[\"cuisine\"],\n",
    "                                    template=\"i want to open a restaurant for {cuisine}, suggest one fency name for it\"\n",
    "                                   )\n",
    "\n",
    "name_chain=LLMChain(llm=client, \n",
    "                    prompt=prompt_template_name,\n",
    "                    output_key=\"restaurant_name\",\n",
    "                    verbose=True)"
   ]
  },
  {
   "cell_type": "code",
   "execution_count": 41,
   "id": "dc039988-8a76-4f7f-8df5-db707a070cc3",
   "metadata": {},
   "outputs": [],
   "source": [
    "prompt_templates_items=PromptTemplate( input_variables=[\"restaurant_name\"],\n",
    "                                      template=\"suggest some menu items for {restaurant_name}\"\n",
    "                                     )\n",
    "\n",
    "food_items_chain=LLMChain(llm=client, \n",
    "                          prompt=prompt_templates_items, \n",
    "                          output_key=\"menu_items\",\n",
    "                          verbose=True)\n"
   ]
  },
  {
   "cell_type": "code",
   "execution_count": 42,
   "id": "8f7fcebd-0a82-48db-bba1-69eb14df6359",
   "metadata": {},
   "outputs": [],
   "source": [
    "from langchain.chains import SequentialChain"
   ]
  },
  {
   "cell_type": "code",
   "execution_count": 43,
   "id": "f089b960-8f92-4e38-bfde-046b1ce904f4",
   "metadata": {},
   "outputs": [],
   "source": [
    "chain=SequentialChain(chains=[name_chain, food_items_chain],\n",
    "                      input_variables=[\"cuisine\"],\n",
    "                      output_variables=[\"restaurant_name\",\"menu_items\"]\n",
    "                     )"
   ]
  },
  {
   "cell_type": "code",
   "execution_count": 44,
   "id": "ed586440-ac17-45ce-b4ec-5701d38222ca",
   "metadata": {},
   "outputs": [
    {
     "name": "stdout",
     "output_type": "stream",
     "text": [
      "\n",
      "\n",
      "\u001b[1m> Entering new LLMChain chain...\u001b[0m\n",
      "Prompt after formatting:\n",
      "\u001b[32;1m\u001b[1;3mi want to open a restaurant for indian, suggest one fency name for it\u001b[0m\n"
     ]
    },
    {
     "name": "stderr",
     "output_type": "stream",
     "text": [
      "/Users/pedrorodriguezdeledesmajimenez/anaconda3/envs/genaienv/lib/python3.11/site-packages/langchain_core/_api/deprecation.py:117: LangChainDeprecationWarning: The function `__call__` was deprecated in LangChain 0.1.0 and will be removed in 0.2.0. Use invoke instead.\n",
      "  warn_deprecated(\n"
     ]
    },
    {
     "name": "stdout",
     "output_type": "stream",
     "text": [
      "\n",
      "\u001b[1m> Finished chain.\u001b[0m\n",
      "\n",
      "\n",
      "\u001b[1m> Entering new LLMChain chain...\u001b[0m\n",
      "Prompt after formatting:\n",
      "\u001b[32;1m\u001b[1;3msuggest some menu items for \n",
      "\n",
      "\"Maharaja's Feast\"\u001b[0m\n",
      "\n",
      "\u001b[1m> Finished chain.\u001b[0m\n"
     ]
    },
    {
     "data": {
      "text/plain": [
       "{'cuisine': 'indian',\n",
       " 'restaurant_name': '\\n\\n\"Maharaja\\'s Feast\"',\n",
       " 'menu_items': '\\n\\n1. Tandoori Chicken: Tender chicken marinated in a blend of Indian spices and cooked in a traditional clay oven.\\n\\n2. Butter Chicken: Boneless chicken cooked in a rich, creamy tomato gravy.\\n\\n3. Lamb Vindaloo: Spicy lamb curry cooked with potatoes in a tangy tomato-based sauce.\\n\\n4. Vegetable Biryani: Fragrant basmati rice cooked with mixed vegetables and aromatic spices.\\n\\n5. Naan Bread: Freshly baked flatbread served hot from the tandoor oven.\\n\\n6. Palak Paneer: Homemade cottage cheese cubes cooked in a creamy spinach gravy.\\n\\n7. Dal Makhani: Slow-cooked black lentils in a creamy tomato and butter sauce.\\n\\n8. Samosas: Crispy turnovers with a savory filling of potatoes and peas.\\n\\n9. Mango Lassi: A refreshing yogurt-based drink blended with fresh mangoes.\\n\\n10. Gulab Jamun: Sweet fried dumplings soaked in a rose-scented sugar syrup.'}"
      ]
     },
     "execution_count": 44,
     "metadata": {},
     "output_type": "execute_result"
    }
   ],
   "source": [
    "chain({\"cuisine\":\"indian\"})"
   ]
  },
  {
   "cell_type": "code",
   "execution_count": null,
   "id": "f0db5386-33d3-4b58-bf64-0f63c911e26d",
   "metadata": {},
   "outputs": [],
   "source": []
  },
  {
   "cell_type": "code",
   "execution_count": null,
   "id": "26b922b9-0469-48c7-99ca-52f97b5c45c3",
   "metadata": {},
   "outputs": [],
   "source": []
  },
  {
   "cell_type": "code",
   "execution_count": null,
   "id": "6058b573-6803-4b53-8172-070fc51359c6",
   "metadata": {},
   "outputs": [],
   "source": []
  }
 ],
 "metadata": {
  "kernelspec": {
   "display_name": "Python 3 (ipykernel)",
   "language": "python",
   "name": "python3"
  },
  "language_info": {
   "codemirror_mode": {
    "name": "ipython",
    "version": 3
   },
   "file_extension": ".py",
   "mimetype": "text/x-python",
   "name": "python",
   "nbconvert_exporter": "python",
   "pygments_lexer": "ipython3",
   "version": "3.11.7"
  }
 },
 "nbformat": 4,
 "nbformat_minor": 5
}
