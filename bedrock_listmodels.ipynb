{
 "cells": [
  {
   "cell_type": "code",
   "execution_count": 3,
   "id": "1b0f34c8-d570-43f3-8b3c-ba0283f5d9d6",
   "metadata": {},
   "outputs": [],
   "source": [
    "import boto3\n",
    "import os\n",
    "import json"
   ]
  },
  {
   "cell_type": "code",
   "execution_count": 4,
   "id": "4fc78f3b-f6e1-4fe5-9819-87837c62dae7",
   "metadata": {},
   "outputs": [],
   "source": [
    "AWS_KEY_ID=os.environ.get(\"AWS_KEY_ID\")\n",
    "AWS_SECRET=os.environ.get(\"AWS_SECRET\")"
   ]
  },
  {
   "cell_type": "markdown",
   "id": "c21e5511-2941-41f8-a8c2-fdcde8378667",
   "metadata": {},
   "source": [
    "franfurt  \"eu-east-1\"\n",
    "ireland \"eu-west-1\"\n",
    "\"eu-central-1\"\n",
    "\n",
    "https://pricing.eu-central-1.amazonaws.com/offers/v1.0/aws/AmazonBedrock/20240712200303/eu-west-1/index.json"
   ]
  },
  {
   "cell_type": "code",
   "execution_count": 5,
   "id": "550c35ef-7a9f-4826-9d62-640b6b4a14c4",
   "metadata": {},
   "outputs": [],
   "source": [
    "region= \"eu-west-1\""
   ]
  },
  {
   "cell_type": "code",
   "execution_count": 6,
   "id": "6425af74-55c0-4f51-b8c5-74e74f7d9c80",
   "metadata": {},
   "outputs": [],
   "source": [
    "client = boto3.client('bedrock',\n",
    "                      aws_access_key_id=AWS_KEY_ID,\n",
    "                      aws_secret_access_key=AWS_SECRET,\n",
    "                      region_name=region) "
   ]
  },
  {
   "cell_type": "markdown",
   "id": "5f7214c0-191c-4df5-8c4d-abff16003f09",
   "metadata": {},
   "source": [
    "# List of foundational models"
   ]
  },
  {
   "cell_type": "code",
   "execution_count": 14,
   "id": "c8889e8b-672d-49af-aae7-39242828a5a8",
   "metadata": {},
   "outputs": [
    {
     "name": "stdout",
     "output_type": "stream",
     "text": [
      "Number of models= 17\n"
     ]
    }
   ],
   "source": [
    "response = client.list_foundation_models()\n",
    "print('Number of models=', len(response['modelSummaries']))"
   ]
  },
  {
   "cell_type": "code",
   "execution_count": 15,
   "id": "9874ea63-71d1-45ff-97e4-4d5d7f051a9c",
   "metadata": {},
   "outputs": [
    {
     "name": "stdout",
     "output_type": "stream",
     "text": [
      "First level data: dict_keys(['ResponseMetadata', 'modelSummaries'])\n",
      "Metada data: dict_keys(['RequestId', 'HTTPStatusCode', 'HTTPHeaders', 'RetryAttempts'])\n",
      "Model metadata:  dict_keys(['modelArn', 'modelId', 'modelName', 'providerName', 'inputModalities', 'outputModalities', 'responseStreamingSupported', 'customizationsSupported', 'inferenceTypesSupported', 'modelLifecycle'])\n"
     ]
    }
   ],
   "source": [
    "print('First level data:', response.keys())\n",
    "print('Metada data:', response['ResponseMetadata'].keys())\n",
    "print('Model metadata: ', response['modelSummaries'][0].keys())"
   ]
  },
  {
   "cell_type": "code",
   "execution_count": 16,
   "id": "0849780e-a9f9-4e8b-aa81-316d4b30b5b1",
   "metadata": {},
   "outputs": [
    {
     "name": "stdout",
     "output_type": "stream",
     "text": [
      "\t Titan Text G1 - Lite | amazon.titan-text-lite-v1:0:4k\n",
      "\t Titan Text G1 - Lite | amazon.titan-text-lite-v1\n",
      "\t Titan Text G1 - Express | amazon.titan-text-express-v1:0:8k\n",
      "\t Titan Text G1 - Express | amazon.titan-text-express-v1\n",
      "\t Titan Multimodal Embeddings G1 | amazon.titan-embed-image-v1:0\n",
      "\t Titan Multimodal Embeddings G1 | amazon.titan-embed-image-v1\n",
      "\t Titan Image Generator G1 | amazon.titan-image-generator-v1\n",
      "\t Claude 3 Sonnet | anthropic.claude-3-sonnet-20240229-v1:0:28k\n",
      "\t Claude 3 Sonnet | anthropic.claude-3-sonnet-20240229-v1:0\n",
      "\t Claude 3 Haiku | anthropic.claude-3-haiku-20240307-v1:0:48k\n",
      "\t Claude 3 Haiku | anthropic.claude-3-haiku-20240307-v1:0\n",
      "\t Claude 3.5 Sonnet | anthropic.claude-3-5-sonnet-20240620-v1:0\n",
      "\t Embed English | cohere.embed-english-v3\n",
      "\t Embed Multilingual | cohere.embed-multilingual-v3\n",
      "\t Mistral 7B Instruct | mistral.mistral-7b-instruct-v0:2\n",
      "\t Mixtral 8x7B Instruct | mistral.mixtral-8x7b-instruct-v0:1\n",
      "\t Mistral Large (2402) | mistral.mistral-large-2402-v1:0\n"
     ]
    }
   ],
   "source": [
    "for model in response['modelSummaries']:\n",
    "    print('\\t',model['modelName'], \"|\", model[\"modelId\"])"
   ]
  },
  {
   "cell_type": "code",
   "execution_count": 17,
   "id": "10b2a935-3c0d-429b-96b6-cdcd7d205576",
   "metadata": {},
   "outputs": [],
   "source": [
    "# # ATRIBUTES\n",
    "# for attribute in response['modelSummaries']:\n",
    "#     values_list =  list(attribute.values())\n",
    "#     print('ATTRIBUTE: ', attribute, '=> ' , values_list)"
   ]
  },
  {
   "cell_type": "code",
   "execution_count": 18,
   "id": "f6101430-fff5-4b18-bcf7-d3f328a40754",
   "metadata": {},
   "outputs": [
    {
     "name": "stdout",
     "output_type": "stream",
     "text": [
      "{'modelArn': 'arn:aws:bedrock:eu-west-1::foundation-model/amazon.titan-text-lite-v1:0:4k', 'modelId': 'amazon.titan-text-lite-v1:0:4k', 'modelName': 'Titan Text G1 - Lite', 'providerName': 'Amazon', 'inputModalities': ['TEXT'], 'outputModalities': ['TEXT'], 'responseStreamingSupported': True, 'customizationsSupported': [], 'inferenceTypesSupported': ['PROVISIONED'], 'modelLifecycle': {'status': 'ACTIVE'}}\n"
     ]
    }
   ],
   "source": [
    "print(response['modelSummaries'][0])"
   ]
  },
  {
   "cell_type": "code",
   "execution_count": 19,
   "id": "b947bf8f-65b0-4592-a6ce-5ba867bdc315",
   "metadata": {},
   "outputs": [],
   "source": [
    "# response = client.list_foundation_models(\n",
    "#     byProvider='string',\n",
    "#     byCustomizationType='FINE_TUNING'|'CONTINUED_PRE_TRAINING',\n",
    "#     byOutputModality='TEXT'|'IMAGE'|'EMBEDDING',\n",
    "#     byInferenceType='ON_DEMAND'|'PROVISIONED'\n",
    "# )"
   ]
  },
  {
   "cell_type": "code",
   "execution_count": 20,
   "id": "dc9bc9b7-e053-4288-8127-b6702200e2cf",
   "metadata": {},
   "outputs": [
    {
     "name": "stdout",
     "output_type": "stream",
     "text": [
      "\t Titan Text G1 - Lite | amazon.titan-text-lite-v1:0:4k\n",
      "\t Titan Text G1 - Lite | amazon.titan-text-lite-v1\n",
      "\t Titan Text G1 - Express | amazon.titan-text-express-v1:0:8k\n",
      "\t Titan Text G1 - Express | amazon.titan-text-express-v1\n",
      "\t Claude 3 Sonnet | anthropic.claude-3-sonnet-20240229-v1:0:28k\n",
      "\t Claude 3 Sonnet | anthropic.claude-3-sonnet-20240229-v1:0\n",
      "\t Claude 3 Haiku | anthropic.claude-3-haiku-20240307-v1:0:48k\n",
      "\t Claude 3 Haiku | anthropic.claude-3-haiku-20240307-v1:0\n",
      "\t Claude 3.5 Sonnet | anthropic.claude-3-5-sonnet-20240620-v1:0\n",
      "\t Mistral 7B Instruct | mistral.mistral-7b-instruct-v0:2\n",
      "\t Mixtral 8x7B Instruct | mistral.mixtral-8x7b-instruct-v0:1\n",
      "\t Mistral Large (2402) | mistral.mistral-large-2402-v1:0\n"
     ]
    }
   ],
   "source": [
    "response = client.list_foundation_models(\n",
    "    byOutputModality='TEXT'\n",
    ")\n",
    "for model in response['modelSummaries']:\n",
    "    print('\\t',model['modelName'], \"|\", model[\"modelId\"])"
   ]
  },
  {
   "cell_type": "markdown",
   "id": "0889c6f4-6f86-49b4-a53d-d36162fd1e21",
   "metadata": {},
   "source": [
    "# Inference\n",
    "\n"
   ]
  },
  {
   "cell_type": "code",
   "execution_count": null,
   "id": "c1fd4059-b288-4ad6-b6d8-bfe365bda8df",
   "metadata": {},
   "outputs": [],
   "source": []
  },
  {
   "cell_type": "code",
   "execution_count": null,
   "id": "d0d60f50-7415-4f79-a342-389e677f1dd4",
   "metadata": {},
   "outputs": [],
   "source": []
  },
  {
   "cell_type": "code",
   "execution_count": null,
   "id": "8a4aeb0d-7bc2-4ceb-af49-c9fb97cba47c",
   "metadata": {},
   "outputs": [],
   "source": []
  },
  {
   "cell_type": "code",
   "execution_count": null,
   "id": "fb1da612-16e4-4e56-8f7b-559e89f65d7d",
   "metadata": {},
   "outputs": [],
   "source": []
  }
 ],
 "metadata": {
  "kernelspec": {
   "display_name": "Python 3 (ipykernel)",
   "language": "python",
   "name": "python3"
  },
  "language_info": {
   "codemirror_mode": {
    "name": "ipython",
    "version": 3
   },
   "file_extension": ".py",
   "mimetype": "text/x-python",
   "name": "python",
   "nbconvert_exporter": "python",
   "pygments_lexer": "ipython3",
   "version": "3.11.5"
  }
 },
 "nbformat": 4,
 "nbformat_minor": 5
}
